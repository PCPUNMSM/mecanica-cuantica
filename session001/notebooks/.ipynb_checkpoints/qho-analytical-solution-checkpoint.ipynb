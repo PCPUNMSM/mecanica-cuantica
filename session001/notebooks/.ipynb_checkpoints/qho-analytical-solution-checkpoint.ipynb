{
 "cells": [
  {
   "cell_type": "markdown",
   "metadata": {},
   "source": [
    "<h1 style=\"text-align:center\">El Oscilador Armónico en Mecánica Cuántica<br/><small>Solución Analítica</small><br/></h1>"
   ]
  },
  {
   "cell_type": "markdown",
   "metadata": {},
   "source": [
    "<div style=\"text-align:center\">\n",
    "<strong>Martín Josemaría Vuelta Rojas</strong><br/>\n",
    "<code><a href=\"https://github.com/zodiacfireworks\" target=\"_blank\">@zodiacfireworks</a></code><br/><br/>\n",
    "\n",
    "<em>Universidad Nacional Mayor de San Marcos</em><br/>\n",
    "Facultad de Ciencias Físicas<br/>\n",
    "<code>(martin.vuelta@unmsm.edu.pe)</code><br/><br/>\n",
    "\n",
    "<em>SoftButterfly</em><br/>\n",
    "CTO<br/>\n",
    "<code>(martin.vuelta@softbutterfly.io)</code><br/><br/>\n",
    "\n",
    "<i>Hack Space</i><br/>\n",
    "Lead Trainer y Lead Software Developer<br/>\n",
    "<code>(martin.vuelta@hackspace.pe)</code>\n",
    "</div>"
   ]
  },
  {
   "cell_type": "markdown",
   "metadata": {},
   "source": [
    "<p style=\"text-align:center\">\n",
    "<strong>Resumen</strong>\n",
    "</p>"
   ]
  },
  {
   "cell_type": "markdown",
   "metadata": {},
   "source": [
    "<p style=\"text-align:justify\">\n",
    "En muchos problemas de la Física se está interesado en analizar situaciones en las cuales el sistema está levemente fuera del equilibrio. En estos casos el problema, generalmente, se puede describir como un conjunto de osciladores independientes. Esta forma de proceder es válida tanto en la Mecánica Clásica  como en la Mecánica Cuántica, y es el formalismo que debe usarse para estudiar las oscilaciones de núcleos, moléculas y sólidos. En el presente documento presentamos un tratamiento detallado para el problema del oscilador armónico cuántico presentándose su solución analítica así como una implementación directa, en lenguaje de programación Python, de las autofunciones obtenidas. Los resultados que se obtienen son básicamente las gráficas correspondientes a las autofunciones y a las densidades de probabilidad para algunos niveles de energía.\n",
    "</p>"
   ]
  },
  {
   "cell_type": "markdown",
   "metadata": {},
   "source": [
    "<p>\n",
    "<em><strong>Frases y palabras clave:</strong> Mecánica Cuántica, Oscilador Armónico, Polinomios de Hermite.</em>\n",
    "</p>"
   ]
  },
  {
   "cell_type": "markdown",
   "metadata": {},
   "source": [
    "## 1 El oscilador Armónico en Mecánica Clásica"
   ]
  },
  {
   "cell_type": "markdown",
   "metadata": {},
   "source": [
    "<p style=\"text-align:justify\">Un sistema de gran importancia en la Física es el oscilador armónico u oscilador lineal cuya ecuación es\n",
    "</p>"
   ]
  },
  {
   "cell_type": "markdown",
   "metadata": {},
   "source": [
    "<p>\n",
    "<span id=\"ec001\" style=\"float:right;\">(1)</span>\n",
    "$$\n",
    "m\\,\\ddot{\\textbf{x}}=-k\\,\\textbf{x},\n",
    "$$\n",
    "</p>"
   ]
  },
  {
   "cell_type": "markdown",
   "metadata": {},
   "source": [
    "<p style=\"text-align:justify\">\n",
    "donde el término $-k\\,\\textbf{x}$ representa la fuerza restauradora en la oscilación. Generalmente se visualiza el modelo del oscilador lineal como el de un cuerpo de masa $m$ sujeto por un resorte _ideal_ de contante elástica $k$ de modo que el desplazamiento del cuerpo en las vecindades de su punto de equilibrio (P.E.) genera un movimiento oscilatorio cuya ecuación de movimiento viene a ser la <em>ec.</em> (<a style=\"text-decoration:none;\" href=\"#ec001\">1</a>). Este modelo es el que se muestra en la <em>fig.</em> (<a style=\"text-decoration:none;\" href=\"#fig001\">1</a>).\n",
    "</p>"
   ]
  },
  {
   "cell_type": "markdown",
   "metadata": {},
   "source": [
    "<center>\n",
    "    <figure>\n",
    "        <img id=\"fig001\" style=\"width:50%\" src=\"./resources/img/fig001.png\" alt=\"Esquema típico de representación de un sistema tipo oscilador lineal.\"/>\n",
    "        <caption><strong>Figura 1.</strong> Esquema típico de representación de un sistema tipo oscilador lineal.</caption>\n",
    "    </figure>\n",
    "</center>"
   ]
  },
  {
   "cell_type": "markdown",
   "metadata": {},
   "source": [
    "<p style=\"text-align:justify\">\n",
    "Un método clásico de solución para la <em>ec.</em> (<a style=\"text-decoration:none;\" href=\"#ec001\">1</a>) es el que se muestra a continuación. Considérmos en primer lugar la introducción del parámetro $\\omega$, definido como\n",
    "</p>"
   ]
  },
  {
   "cell_type": "markdown",
   "metadata": {},
   "source": [
    "<p>\n",
    "<span id=\"ec002\" style=\"float:right;\">(2)</span>\n",
    "$$\n",
    "\\omega=\\sqrt{\\frac{k}{m}},\n",
    "$$\n",
    "</p>"
   ]
  },
  {
   "cell_type": "markdown",
   "metadata": {},
   "source": [
    "<p style=\"text-align:justify\">\n",
    "en la <em>ec.</em> (<a style=\"text-decoration:none;\" href=\"#ec001\">1</a>) con lo cual esta puede expresarse, en una dimensión, como\n",
    "</p>"
   ]
  },
  {
   "cell_type": "markdown",
   "metadata": {},
   "source": [
    "<p>\n",
    "<span id=\"ec003\" style=\"float:right;\">(3)</span>\n",
    "$$\n",
    "\\ddot{x}+{\\omega}^{2}\\,x=0\n",
    "$$\n",
    "</p>"
   ]
  },
  {
   "cell_type": "markdown",
   "metadata": {},
   "source": [
    "<p style=\"text-align:justify\">\n",
    "Nótese que los coeficientes de la <em>ec.</em> (<a style=\"text-decoration:none;\" href=\"#ec003\">3</a>) son $1$ y $\\omega^2$ que, por ser funciones constantes, son analíticas sobre $\\mathbb{C}$ y por tanto lo son sobre $\\mathbb{R}$. Resulta válido entonces procurar una solución en serie de potencias desarrolladas en torno a la posición de equilibrio que se toma en  $x(t=0)$ de modo que resulta\n",
    "</p>"
   ]
  },
  {
   "cell_type": "markdown",
   "metadata": {},
   "source": [
    "<p>\n",
    "<span id=\"ec004\" style=\"float:right;\">(4)</span>\n",
    "$$\n",
    "x=\\sum_{k=0}^{\\infty}a_{k}\\,t^{k}\n",
    "$$\n",
    "</p>"
   ]
  },
  {
   "cell_type": "markdown",
   "metadata": {},
   "source": [
    "<p style=\"text-align:justify\">\n",
    "De esta forma la primera derivada de $x$ la obtenemos derivando término a término su serie de potencias, así\n",
    "</p>"
   ]
  },
  {
   "cell_type": "markdown",
   "metadata": {},
   "source": [
    "<p>\n",
    "<span id=\"ec005\" style=\"float:right;\">(5)</span>\n",
    "$$\n",
    "\\dot{x}=\n",
    "\\sum_{k=1}^{\\infty}k{a}_{k}\\,t^{k-1}\\quad=\n",
    "\\!\\!\\!\\!\\!\\!\\!\\!\\!\\!\\!{}^{k\\rightarrow k+1}\\,\n",
    "\\sum_{k=0}^{\\infty}(k+1){a}_{k+1}\\,t^{k}.\n",
    "$$\n",
    "</p>"
   ]
  },
  {
   "cell_type": "markdown",
   "metadata": {},
   "source": [
    "<p style=\"text-align:justify\">\n",
    "De forma totalmente análoga llegamos a la segunda derivada como\n",
    "</p>"
   ]
  },
  {
   "cell_type": "markdown",
   "metadata": {},
   "source": [
    "<p>\n",
    "<span id=\"ec006\" style=\"float:right;\">(6)</span>\n",
    "$$\n",
    "\\ddot{x}=\n",
    "\\sum_{k=1}^{\\infty}k(k+1){a}_{k+1}\\,t^{k-1}\\quad=\n",
    "\\!\\!\\!\\!\\!\\!\\!\\!\\!\\!\\!{}^{k\\rightarrow k+1}\\,\n",
    "\\sum_{k=0}^{\\infty}(k+1)(k+2){a}_{k+2}\\,t^{k}.\n",
    "$$\n",
    "</p>"
   ]
  },
  {
   "cell_type": "markdown",
   "metadata": {},
   "source": [
    "<p style=\"text-align:justify\">\n",
    "Reemplazando (<a style=\"text-decoration:none;\" href=\"#ec005\">5</a>) y (<a style=\"text-decoration:none;\" href=\"#ec006\">6</a>) en (<a style=\"text-decoration:none;\" href=\"#ec003\">3</a>) obtenemos la ecuación\n",
    "</p>"
   ]
  },
  {
   "cell_type": "markdown",
   "metadata": {},
   "source": [
    "<p>\n",
    "<span id=\"ec007\" style=\"float:right;\">(7)</span>\n",
    "$$\n",
    "\\sum_{k=0}^{\\infty}(k+1)(k+2){a}_{k+2}\\,t^{k}-{\\omega}^{2}\\left(\\sum_{k=1}^{\\infty}a_{k}\\,t^{k}\\right)=0.\n",
    "$$\n",
    "</p>"
   ]
  },
  {
   "cell_type": "markdown",
   "metadata": {},
   "source": [
    "<p style=\"text-align:justify\">\n",
    "Dado que (<a style=\"text-decoration:none;\" href=\"#ec007\">7</a>) es válida para cualquier valor de t, esta ecuación nos conduce a la relación de recurrencia\n",
    "</p>"
   ]
  },
  {
   "cell_type": "markdown",
   "metadata": {},
   "source": [
    "<p>\n",
    "<span id=\"ec008\" style=\"float:right;\">(8)</span>\n",
    "$$\n",
    "(k+2)(k+1)a_{k+2}+\\omega^{2}a_{k}=0.\n",
    "$$\n",
    "</p>"
   ]
  },
  {
   "cell_type": "markdown",
   "metadata": {},
   "source": [
    "<p style=\"text-align:justify\">\n",
    "Si fijamos los valores de los coeficientes $a_0$ y $a_1$ podemos obtener las soluciones de (<a style=\"text-decoration:none;\" href=\"#ec008\">8</a>) como\n",
    "</p>"
   ]
  },
  {
   "cell_type": "markdown",
   "metadata": {},
   "source": [
    "<p>\n",
    "<span id=\"ec009\" style=\"float:right;\">(9)</span>\n",
    "$$\n",
    "a_{2n}=\\frac{(-1)^{n}\\omega^{2n}}{(2n)!}a_0,\n",
    "$$\n",
    "</p>"
   ]
  },
  {
   "cell_type": "markdown",
   "metadata": {},
   "source": [
    "<p>\n",
    "<span id=\"ec010\" style=\"float:right;\">(10)</span>\n",
    "$$\n",
    "a_{2n+1}=\\frac{(-1)^n \\omega^{2n}}{(2n+1)!}a_1.\n",
    "$$\n",
    "</p>"
   ]
  },
  {
   "cell_type": "markdown",
   "metadata": {},
   "source": [
    "<p style=\"text-align:justify\">\n",
    "Si reemplazamos (<a style=\"text-decoration:none;\" href=\"#ec009\">9</a>) y (<a style=\"text-decoration:none;\" href=\"#ec010\">10</a>) en (<a style=\"text-decoration:none;\" href=\"#ec004\">4</a>) se obtiene, tras reordenar términos,\n",
    "</p>"
   ]
  },
  {
   "cell_type": "markdown",
   "metadata": {},
   "source": [
    "<p>\n",
    "<span id=\"ec011\" style=\"float:right;\">(11)</span>\n",
    "$$\n",
    "x=a_{0}\\sum_{k=0}^{\\infty}\\frac{(-1)^{n}}{(2n)!}({\\omega}t)^{2n}+\\frac{a_{1}}{\\omega}\\sum_{k=0}^{\\infty}\\frac{(-1)^{n}}{(2n+1)!}({\\omega}t)^{2n+1}\n",
    "$$\n",
    "</p>"
   ]
  },
  {
   "cell_type": "markdown",
   "metadata": {},
   "source": [
    "<p style=\"text-align:justify\">\n",
    "en donde identificamos las series de Taylor de $\\textrm{sen}(\\omega t)$ y $\\textrm{cos}(\\omega t)$ en torno a $0$. Esto último nos permite expresar (<a style=\"text-decoration:none;\" href=\"#ec010\">10</a>) como\n",
    "</p>"
   ]
  },
  {
   "cell_type": "markdown",
   "metadata": {},
   "source": [
    "<p>\n",
    "<span id=\"ec012\" style=\"float:right;\">(12)</span>\n",
    "$$\n",
    "x(t)=a_0\\,\\textrm{cos}(\\omega t)+\\frac{a_1}{\\omega}\\,\\textrm{sin}(\\omega t),\n",
    "$$\n",
    "</p>"
   ]
  },
  {
   "cell_type": "markdown",
   "metadata": {},
   "source": [
    "<p style=\"text-align:justify\">\n",
    "que resulta ser la muy conocida solución de la ecuación del oscilador armónico. Evidentemente las constantes $a_0$ y $a_1$ pueden ser determinadas si se imponen las condiciones iniciales sobre el problema.\n",
    "</p>"
   ]
  },
  {
   "cell_type": "markdown",
   "metadata": {},
   "source": [
    "## 2. El oscilador Armónico en Mecánica Cuántica"
   ]
  },
  {
   "cell_type": "markdown",
   "metadata": {},
   "source": [
    "<p style=\"text-align:justify\">\n",
    "De igual forma que en mecánica clásica los potenciales del tipo oscilador juegan un papel central en mecánica cuántica (y luego en teoría cuántica de campos). Así pues resulta un ejemplo bastante ilustrativo, y en cierto grado sencillo, el resolver la ecuación del oscilador armónico en mecánica cuántica dado que es importancia en la teoría general por estar en las bases de la teoría de la radiación.\n",
    "</p>"
   ]
  },
  {
   "cell_type": "markdown",
   "metadata": {},
   "source": [
    "<p style=\"text-align:justify\">\n",
    "Empecemos planteando la forma del potencial para el oscilador armónico. Consideremos que la descripción se hace en términos de una coordenada $q$ y su momento conjugado $p$ cuyos operadores asociados se representan como $\\widehat{q}$ y $\\widehat{q}$ respectivamente. Haciendo uso del parámetro $\\omega$ definido en la física clásica podemos expresar el operador de energía potencial como\n",
    "</p>"
   ]
  },
  {
   "cell_type": "markdown",
   "metadata": {},
   "source": [
    "<p>\n",
    "<span id=\"ec013\" style=\"float:right;\">(13)</span>\n",
    "$$\n",
    "\\widehat{\\mathcal{V}}(\\widehat{q})=\\frac{1}{2}m{\\omega}^{2}\\widehat{q}^{\\,2},\n",
    "$$\n",
    "</p>"
   ]
  },
  {
   "cell_type": "markdown",
   "metadata": {},
   "source": [
    "<p style=\"text-align:justify\">\n",
    "con lo cual el operador Hamiltoniano resulta ser\n",
    "</p>"
   ]
  },
  {
   "cell_type": "markdown",
   "metadata": {},
   "source": [
    "<p>\n",
    "<span id=\"ec014\" style=\"float:right;\">(14)</span>\n",
    "$$\n",
    "\\widehat{\\mathcal{H}}(\\widehat{q},\\widehat{p})=\\frac{1}{2m}\\left({\\widehat{p}}^{\\,2}+{m}^{2}{\\omega}^{2}{\\widehat{p}}^{\\,2}\\right)\n",
    "$$\n",
    "</p>"
   ]
  },
  {
   "cell_type": "markdown",
   "metadata": {},
   "source": [
    "### 2.1. La energía de punto cero"
   ]
  },
  {
   "cell_type": "markdown",
   "metadata": {},
   "source": [
    "<p style=\"text-align:justify\">\n",
    "Para empezar el estudio formal del oscilador armónico exploremos primero el estado fundamental a través de su energía mínima. En primer lugar notemos que de acuerdo al principio de incertidumbre es posible establecer la siguiente desigualdad\n",
    "</p>"
   ]
  },
  {
   "cell_type": "markdown",
   "metadata": {},
   "source": [
    "<p>\n",
    "<span id=\"ec015\" style=\"float:right;\">(15)</span>\n",
    "$$\n",
    "(\\Delta\\widehat{p}\\,)^{2}(\\Delta\\widehat{q}\\,)^{2}\\geq\\frac{\\hbar^2}{4}\n",
    "$$\n",
    "</p>"
   ]
  },
  {
   "cell_type": "markdown",
   "metadata": {},
   "source": [
    "<p style=\"text-align:justify\">\n",
    "de lo cual, reemplazando las definiciones de $(\\Delta\\widehat{p})^{2}$ y $(\\Delta\\widehat{q})^{2}$, resulta\n",
    "</p>"
   ]
  },
  {
   "cell_type": "markdown",
   "metadata": {},
   "source": [
    "<p>\n",
    "<span id=\"ec016\" style=\"float:right;\">(16)</span>\n",
    "$$\n",
    "\\langle\\widehat{p}^{\\,2}\\rangle\\langle\\widehat{q}^{\\,2}\\rangle\\geq\\frac{{\\hbar}^{2}}{4}.\n",
    "$$\n",
    "</p>"
   ]
  },
  {
   "cell_type": "markdown",
   "metadata": {},
   "source": [
    "<p style=\"text-align:justify\">\n",
    "En este punto es fundamental suponer que la función de onda en el estado basasl es tal que, en la expresión anterior, es posible empelar el signo de igualdad, obteniéndose así\n",
    "</p>"
   ]
  },
  {
   "cell_type": "markdown",
   "metadata": {},
   "source": [
    "<p>\n",
    "<span id=\"ec017\" style=\"float:right;\">(17)</span>\n",
    "$$\n",
    "\\langle\\widehat{p}^{\\,2}\\rangle\\langle\\widehat{q}^{\\,2}\\rangle=\\frac{{\\hbar}^{2}}{4}.\n",
    "$$\n",
    "</p>"
   ]
  },
  {
   "cell_type": "markdown",
   "metadata": {},
   "source": [
    "<p style=\"text-align:justify\">\n",
    "Cuando se calcula el valor esperado de la energía a partir de (<a style=\"text-decoration:none;\" href=\"#ec014\">14</a>) e introduciendo (<a style=\"text-decoration:none;\" href=\"#ec017\">17</a>) se obtiene\n",
    "</p>"
   ]
  },
  {
   "cell_type": "markdown",
   "metadata": {},
   "source": [
    "<p>\n",
    "<span id=\"ec018\" style=\"float:right;\">(18)</span>\n",
    "$$\n",
    "\\langle\\mathcal{E}\\rangle=\\langle\\widehat{\\mathcal{H}}\\rangle=\n",
    "\\frac{{\\hbar}^{2}}{8m}\\left(\\frac{1}{\\langle\\widehat{q}^{\\,2}\\rangle}+\n",
    "\\frac{4{m}^{2}{\\omega}^{2}{\\langle\\widehat{q}^{\\,2}\\rangle}}{{\\hbar}^{2}}\\right).\n",
    "$$\n",
    "</p>"
   ]
  },
  {
   "cell_type": "markdown",
   "metadata": {},
   "source": [
    "<p style=\"text-align:justify\">\n",
    "Minimizando $\\langle\\mathcal{E}\\rangle$ respecto de $\\langle\\widehat{q}^{\\,2}\\rangle$ obtenemos que\n",
    "</p>"
   ]
  },
  {
   "cell_type": "markdown",
   "metadata": {},
   "source": [
    "<p>\n",
    "<span id=\"ec019\" style=\"float:right;\">(19)</span>\n",
    "$$\n",
    "{\\langle\\mathcal{E}\\rangle}_{\\textrm{min}}=\\frac{1}{2}\\hbar\\,\\omega.\n",
    "$$\n",
    "</p>"
   ]
  },
  {
   "cell_type": "markdown",
   "metadata": {},
   "source": [
    "<p style=\"text-align:justify\">\n",
    "Debido a que el valor esperado de la energía de un estado estacionario coincide con el autovalor del Hamiltoniano del sistema en tal estado, se tiene que la energía del estado fundamental\n",
    "</p>"
   ]
  },
  {
   "cell_type": "markdown",
   "metadata": {},
   "source": [
    "<p>\n",
    "<span id=\"ec020\" style=\"float:right;\">(20)</span>\n",
    "$$\n",
    "{\\mathcal{E}}_{\\textrm{min}}=\\frac{1}{2}\\hbar\\,\\omega\n",
    "$$\n",
    "</p>"
   ]
  },
  {
   "cell_type": "markdown",
   "metadata": {},
   "source": [
    "<p style=\"text-align:justify\">\n",
    "A la luz de la suposición hecha para validar (<a style=\"text-decoration:none;\" href=\"#ec017\">17</a>) es importante notar que la energía del estado fundamental del oscilador armónico no es nula. Esta energía mínima, que ningún oscilador puede perder, es la denominada energía de punto cero.\n",
    "</p>"
   ]
  },
  {
   "cell_type": "markdown",
   "metadata": {},
   "source": [
    "### 2.2. El espectro de energías"
   ]
  },
  {
   "cell_type": "markdown",
   "metadata": {},
   "source": [
    "<p style=\"text-align:justify\">\n",
    "El hecho de considerar valido el Hamiltoniano clásico, del cual deriva (<a style=\"text-decoration:none;\" href=\"#ec014\">14</a>), para la mecánica cuántica, requiere además considerar la condición cuántica del conmutador\n",
    "</p>"
   ]
  },
  {
   "cell_type": "markdown",
   "metadata": {},
   "source": [
    "<p>\n",
    "<span id=\"ec021\" style=\"float:right;\">(21)</span>\n",
    "$$\n",
    "[\\widehat{q},\\widehat{p}]=\\widehat{\\mathbb{I}}\\,i\\,\\hbar\n",
    "$$\n",
    "</p>"
   ]
  },
  {
   "cell_type": "markdown",
   "metadata": {},
   "source": [
    "<p style=\"text-align:justify\">\n",
    "de modo que las <em>ecs.</em> (<a style=\"text-decoration:none;\" href=\"#ec014\">14</a>) y (<a style=\"text-decoration:none;\" href=\"#ec021\">21</a>) definen completamente el sistema. De esta forma las ecuaciones del movimiento del sistema están dadas por\n",
    "</p>"
   ]
  },
  {
   "cell_type": "markdown",
   "metadata": {},
   "source": [
    "<p>\n",
    "<span id=\"ec022\" style=\"float:right;\">(22)</span>\n",
    "$$\n",
    "\\dot{\\widehat{q}}=-\\frac{i}{\\hbar}\\left[\\widehat{q},\\widehat{\\mathcal{H}}\\right]=\\frac{1}{m}\\widehat{p}\n",
    "$$\n",
    "</p>"
   ]
  },
  {
   "cell_type": "markdown",
   "metadata": {},
   "source": [
    "y"
   ]
  },
  {
   "cell_type": "markdown",
   "metadata": {},
   "source": [
    "<p>\n",
    "<span id=\"ec023\" style=\"float:right;\">(23)</span>\n",
    "$$\n",
    "\\dot{\\widehat{p}}=-\\frac{i}{\\hbar}\\left[\\widehat{p},\\widehat{\\mathcal{H}}\\right]=-m\\omega^{2}\\widehat{q}.\n",
    "$$\n",
    "</p>"
   ]
  },
  {
   "cell_type": "markdown",
   "metadata": {},
   "source": [
    "<p style=\"text-align:justify\">\n",
    "Resulta conveniente introducir el operador dinámico $\\widehat{\\eta}$ definido como\n",
    "</p>"
   ]
  },
  {
   "cell_type": "markdown",
   "metadata": {},
   "source": [
    "<p>\n",
    "<span id=\"ec024\" style=\"float:right;\">(24)</span>\n",
    "$$\n",
    "\\widehat{\\eta}=\\frac{1}{2m\\hbar\\omega}\\left(m\\omega\\widehat{q}+i\\widehat{p}\\right)\n",
    "$$\n",
    "</p>"
   ]
  },
  {
   "cell_type": "markdown",
   "metadata": {},
   "source": [
    "<p style=\"text-align:justify\">\n",
    "de forma que el Hamiltoniano puede expresarse en términos de $\\widehat{\\eta}$ y su compleja conjugada ${\\widehat{\\eta}}^{\\ast}$ como\n",
    "</p>"
   ]
  },
  {
   "cell_type": "markdown",
   "metadata": {},
   "source": [
    "<p>\n",
    "<span id=\"ec025\" style=\"float:right;\">(25)</span>\n",
    "$$\n",
    "\\widehat{\\mathcal{H}}\\left(\\widehat{\\eta},{\\widehat{\\eta}}^{\\ast}\\right)=\\hbar\\omega\\left(\\widehat{\\eta}\\,{\\widehat{\\eta}}^{\\ast}-\\frac{1}{2}\\widehat{\\mathbb{I}}\\right)\n",
    "$$\n",
    "</p>"
   ]
  },
  {
   "cell_type": "markdown",
   "metadata": {},
   "source": [
    "<p style=\"text-align:justify\">\n",
    "o, de forma equivalente,\n",
    "</p>"
   ]
  },
  {
   "cell_type": "markdown",
   "metadata": {},
   "source": [
    "<p>\n",
    "<span id=\"ec026\" style=\"float:right;\">(26)</span>\n",
    "$$\n",
    "\\widehat{\\mathcal{H}}\\left(\\widehat{\\eta},{\\widehat{\\eta}}^{\\ast}\\right)=\\hbar\\omega\\left({\\widehat{\\eta}}^{\\ast}\\widehat{\\eta}+\\frac{1}{2}\\widehat{\\mathbb{I}}\\right)\n",
    "$$\n",
    "</p>"
   ]
  },
  {
   "cell_type": "markdown",
   "metadata": {},
   "source": [
    "<p style=\"text-align:justify\">\n",
    "A partir de (<a style=\"text-decoration:none;\" href=\"#ec025\">25</a>) y (<a style=\"text-decoration:none;\" href=\"#ec026\">26</a>) podemos obtener fácilmente el conmutador de $\\widehat{\\eta}$ y ${\\widehat{\\eta}}^{\\ast}$\n",
    "</p>"
   ]
  },
  {
   "cell_type": "markdown",
   "metadata": {},
   "source": [
    "<p>\n",
    "<span id=\"ec027\" style=\"float:right;\">(27)</span>\n",
    "$$\n",
    "\\left[\\widehat{\\eta},{\\widehat{\\eta}}^{\\ast}\\right]=\\widehat{\\mathbb{I}}.\n",
    "$$\n",
    "</p>"
   ]
  },
  {
   "cell_type": "markdown",
   "metadata": {},
   "source": [
    "<p style=\"text-align:justify\">\n",
    "De igual modo se obtienen las siguientes relaciones\n",
    "</p>"
   ]
  },
  {
   "cell_type": "markdown",
   "metadata": {},
   "source": [
    "<p>\n",
    "<span id=\"ec028\" style=\"float:right;\">(28)</span>\n",
    "$$\n",
    "\\left[\\widehat{\\eta},\\widehat{\\mathcal{H}}\\right]=\\hbar\\omega\\widehat{\\eta},\n",
    "$$\n",
    "</p>"
   ]
  },
  {
   "cell_type": "markdown",
   "metadata": {},
   "source": [
    "<p>\n",
    "<span id=\"ec029\" style=\"float:right;\">(29)</span>\n",
    "$$\n",
    "\\left[{\\widehat{\\eta}}^{\\ast},\\widehat{\\mathcal{H}}\\right]=-\\hbar\\omega{\\widehat{\\eta}}^{\\ast}.\n",
    "$$\n",
    "</p>"
   ]
  },
  {
   "cell_type": "markdown",
   "metadata": {},
   "source": [
    "<p style=\"text-align:justify\">\n",
    "Resulta de (<a style=\"text-decoration:none;\" href=\"#ec028\">28</a>) que las ecuaciones del movimiento del sistema se pueden expresar en la nueva variable $\\widehat{\\eta}$ como\n",
    "</p>"
   ]
  },
  {
   "cell_type": "markdown",
   "metadata": {},
   "source": [
    "<p>\n",
    "<span id=\"ec030\" style=\"float:right;\">(30)</span>\n",
    "$$\n",
    "\\dot{\\widehat{\\eta}}=-\\frac{i}{h}\\left[\\widehat{\\eta},\\widehat{\\mathcal{H}}\\right]=-i\\omega\\widehat{\\eta}\n",
    "$$\n",
    "</p>\n"
   ]
  },
  {
   "cell_type": "markdown",
   "metadata": {},
   "source": [
    "<p style=\"text-align:justify\">\n",
    "Esta ecuacón se integra fácilmente dando como resultado\n",
    "</p>"
   ]
  },
  {
   "cell_type": "markdown",
   "metadata": {},
   "source": [
    "<p>\n",
    "<span id=\"ec031\" style=\"float:right;\">(31)</span>\n",
    "$$\n",
    "\\widehat{\\eta}(t)={\\widehat{\\eta}}_{0}\\,{\\textrm{e}}^{-i{\\omega}t}\n",
    "$$\n",
    "</p>"
   ]
  },
  {
   "cell_type": "markdown",
   "metadata": {},
   "source": [
    "<p style=\"text-align:justify\">\n",
    "Donde ${\\widehat{\\eta}}_{0}$ representa el operador lineal independiente del tiempo y es igual al valor de $\\widehat{\\eta}(t)$ en evaluado en $t=0$.\n",
    "Hasta el momento las ecuaciones coinciden con la teoría clásica sin mayores inconvenientes, salvo la <em>ec.</em> (<a style=\"text-decoration:none;\" href=\"#ec020\">20</a>). Sin embargo al considerar el estado cuyo auto valor es $\\sigma$ y el ket correspondiente, $|\\sigma\\rangle$, y calcular el valor medio del operador $\\widehat{\\eta}^{\\ast}\\widehat{\\eta}$ obtenemos a partir de la <em>ec.</em> (<a style=\"text-decoration:none;\" href=\"#ec026\">26</a>)\n",
    "</p>"
   ]
  },
  {
   "cell_type": "markdown",
   "metadata": {},
   "source": [
    "<p>\n",
    "<span id=\"ec032\" style=\"float:right;\">(32)</span>\n",
    "$$\n",
    "\\hbar\\omega\\left\\langle \\sigma\\left|\\widehat{\\eta}^{\\ast}\\widehat{\\eta}\\right|\\sigma\\right\\rangle =\n",
    "\\left\\langle \\sigma\\left|\\widehat{\\mathcal{H}}\\right|\\sigma\\right\\rangle -\n",
    "\\frac{1}{2}\\left\\langle \\sigma|\\sigma\\right\\rangle \n",
    "$$\n",
    "</p>"
   ]
  },
  {
   "cell_type": "markdown",
   "metadata": {},
   "source": [
    "<p style=\"text-align:justify\">\n",
    "Si consideramos la normalización del ket $|\\sigma\\rangle$, $\\langle\\sigma|\\sigma\\rangle=1$, y que el factor $\\langle\\sigma|\\widehat{\\eta}^{\\ast}\\widehat{\\eta}|\\sigma\\rangle$ es la longitud del ket $\\widehat{\\eta}|\\sigma\\rangle$ y por tanto es siempre mayor o igual a $0$, entonces resulta que\n",
    "</p>"
   ]
  },
  {
   "cell_type": "markdown",
   "metadata": {},
   "source": [
    "<p>\n",
    "<span id=\"ec033\" style=\"float:right;\">(33)</span>\n",
    "\n",
    "$$\n",
    "\\left\\langle \\sigma\\left|\\widehat{\\mathcal{H}}\\right|\\sigma\\right\\rangle \\geq\\frac{1}{2}\\hbar\\omega,\n",
    "$$\n",
    "</p>"
   ]
  },
  {
   "cell_type": "markdown",
   "metadata": {},
   "source": [
    "<p style=\"text-align:justify\">\n",
    "resultado que coincide con el obtenido en el apartado anterior. Como el Hamiltoniano es cuadrático en $\\widehat{q}$ y en $\\widehat{p}$ era esperar que sus autovalores sean todos nulos o positivos, sin embargo en (<a style=\"text-decoration:none;\" href=\"#ec033\">33</a>) hemos obtenido una condición más restrictiva. Resulta claro que (<a style=\"text-decoration:none;\" href=\"#ec033\">33</a>) se convierte en una igualdad cuando $\\widehat{\\eta}|\\sigma\\rangle=0$, es decir cuando $|\\sigma\\rangle$ corresponde al estado fundamental.\n",
    "Por otro lado, a partir de (<a style=\"text-decoration:none;\" href=\"#ec029\">29</a>) podemos obtener\n",
    "</p>"
   ]
  },
  {
   "cell_type": "markdown",
   "metadata": {},
   "source": [
    "<p>\n",
    "<span id=\"ec034\" style=\"float:right;\">(34)</span>\n",
    "$$\n",
    "\\widehat{\\mathcal{H}}\\widehat{\\eta}^{\\ast}|\\sigma\\rangle=\n",
    "(\\widehat{\\eta}^{\\ast}\\widehat{\\mathcal{H}}+\\hbar\\omega\\widehat{\\eta}^{\\ast})|\\sigma\\rangle=\n",
    "(\\sigma+\\hbar\\omega)\\widehat{\\eta}^{\\ast}|\\sigma\\rangle\n",
    "$$\n",
    "</p>"
   ]
  },
  {
   "cell_type": "markdown",
   "metadata": {},
   "source": [
    "<p style=\"text-align:justify\">\n",
    "lo cual indica que si $|\\sigma\\rangle$ es un autoket $\\widehat{\\mathcal{H}}$ con autovalor $\\sigma$, entonces $\\widehat{\\eta}^{\\ast}|\\sigma\\rangle$ es también otro autoket con cuyo autovalor correspondiente es $\\sigma+\\hbar\\omega$ siempre que $\\widehat{\\eta}^{\\ast}|\\sigma\\rangle\\neq0$. El caso en el cual $\\widehat{\\eta}^{\\ast}|\\sigma\\rangle=0$ puede descartarse pues, según (<a style=\"text-decoration:none;\" href=\"#ec025\">25</a>), se tendría\n",
    "</p>"
   ]
  },
  {
   "cell_type": "markdown",
   "metadata": {},
   "source": [
    "<p>\n",
    "<span id=\"ec035\" style=\"float:right;\">(35)</span>\n",
    "$$\n",
    "0=\\hbar\\omega\\left\\langle \\sigma|\\widehat{\\eta}\\,\\widehat{\\eta}^{\\ast}|\\sigma\\right\\rangle =\n",
    "\\left\\langle \\sigma\\left|\\widehat{\\mathcal{H}}+\\frac{1}{2}{\\widehat{\\mathbb{I}}}\\right|\\sigma\\right\\rangle =\n",
    "\\sigma+\\frac{1}{2}\\hbar\\omega,\n",
    "$$\n",
    "</p>"
   ]
  },
  {
   "cell_type": "markdown",
   "metadata": {},
   "source": [
    "<p style=\"text-align:justify\">\n",
    "lo cual contradice el resultado obtenido en (<a style=\"text-decoration:none;\" href=\"#ec033\">33</a>).\n",
    "Siguiendo el proceso anterior podemos obtener, a partir de (<a style=\"text-decoration:none;\" href=\"#ec028\">28</a>), $\\widehat{\\mathcal{H}}\\widehat{\\eta}\\left|\\sigma\\right\\rangle $ como\n",
    "</p>"
   ]
  },
  {
   "cell_type": "markdown",
   "metadata": {},
   "source": [
    "<p>\n",
    "<span id=\"ec036\" style=\"float:right;\">(36)</span>\n",
    "$$\n",
    "\\widehat{\\mathcal{H}}\\widehat{\\eta}\\left|\\sigma\\right\\rangle=\n",
    "(\\widehat{\\eta}\\widehat{\\mathcal{H}}-\\hbar\\omega\\widehat{\\eta})\\left|\\sigma\\right\\rangle=\n",
    "(\\sigma-\\hbar\\omega)\\widehat{\\eta}\\left|\\sigma\\right\\rangle.\n",
    "$$\n",
    "</p>"
   ]
  },
  {
   "cell_type": "markdown",
   "metadata": {},
   "source": [
    "<p style=\"text-align:justify\">\n",
    "Las <em>ecs.</em> (<a style=\"text-decoration:none;\" href=\"#ec034\">34</a>) y (<a style=\"text-decoration:none;\" href=\"#ec036\">36</a>) nos conducen, por aplicación sucesiva, a dos series de autovalores que han de ser equivalentes. Por un lado (<a style=\"text-decoration:none;\" href=\"#ec036\">36</a>) nos dice que a partir de un ket de estado $\\left|\\sigma\\right\\rangle $ con autovalor $\\sigma\\neq\\frac{1}{2}\\hbar\\omega$ podemos obtener otro ket de estado $\\widehat{\\eta}^{\\ast}\\left|\\sigma\\right\\rangle $ cuyo autovalor resulta $\\sigma-\\hbar\\omega$. Siempre que $\\sigma-\\hbar\\omega\\neq\\frac{1}{2}\\hbar\\omega$ es posible obtener otro autoket $\\widehat{\\eta}^{\\ast 2}\\left|\\sigma\\right\\rangle $ cuyo autovalor $\\sigma-2\\hbar\\omega$. Repitiendo este razonamiento obtenemos una serie $\\sigma,\\sigma-\\hbar\\omega,\\sigma-2\\hbar\\omega,\\sigma-3\\hbar\\omega,...$ que evidentemente terminará cuando se alcance el autovalor $\\frac{1}{2}\\hbar\\omega$. Razonando de modo análogo se llega, a partir de (<a style=\"text-decoration:none;\" href=\"#ec034\">34</a>), a que la sucesión de valores $\\sigma,\\sigma+\\hbar\\omega,\\sigma+2\\hbar\\omega,\\sigma+3\\hbar\\omega,...$ representa una sucesión de autovalores que, a diferencia de la anterior, no posee un límite superior.\n",
    "Si se representa por $\\left|0\\right\\rangle $ al ket correspondiente al mínimo autovalor, tenemos que\n",
    "</p>"
   ]
  },
  {
   "cell_type": "markdown",
   "metadata": {},
   "source": [
    "<p>\n",
    "<span id=\"ec037\" style=\"float:right;\">(37)</span>\n",
    "$$\n",
    "\\widehat{\\eta}\\left|0\\right\\rangle =0\n",
    "$$\n",
    "</p>"
   ]
  },
  {
   "cell_type": "markdown",
   "metadata": {},
   "source": [
    "<p style=\"text-align:justify\">\n",
    "así, a partir de (<a style=\"text-decoration:none;\" href=\"#ec034\">34</a>), podemos formar la sucesión de kets\n",
    "</p>"
   ]
  },
  {
   "cell_type": "markdown",
   "metadata": {},
   "source": [
    "<p>\n",
    "<span id=\"ec038\" style=\"float:right;\">(38)</span>\n",
    "$$\n",
    "\\left|0\\right\\rangle ,\n",
    "\\widehat{\\eta}^{\\ast}\\left|0\\right\\rangle ,\n",
    "\\widehat{\\eta}^{\\ast 2}\\left|0\\right\\rangle ,\n",
    "\\widehat{\\eta}^{\\ast 3}\\left|0\\right\\rangle ,\n",
    "\\widehat{\\eta}^{\\ast 4}\\left|0\\right\\rangle ,\n",
    "\\widehat{\\eta}^{\\ast 5}\\left|0\\right\\rangle ,\n",
    "...\n",
    "$$\n",
    "</p>"
   ]
  },
  {
   "cell_type": "markdown",
   "metadata": {},
   "source": [
    "<p style=\"text-align:justify\">\n",
    "los cuales son autokets de $\\widehat{\\mathcal{H}}$. Mediante la aplicación sucesiva de (<a style=\"text-decoration:none;\" href=\"#ec034\">34</a>) y en virtud de (<a style=\"text-decoration:none;\" href=\"#ec037\">37</a>) se tiene que los autovalores correspondientes forman la sucesión\n",
    "</p>"
   ]
  },
  {
   "cell_type": "markdown",
   "metadata": {},
   "source": [
    "<p>\n",
    "<span id=\"ec039\" style=\"float:right;\">(39)</span>\n",
    "$$\n",
    "\\frac{1}{2}\\hbar\\omega,\n",
    "\\frac{3}{2}\\hbar\\omega,\n",
    "\\frac{5}{2}\\hbar\\omega,\n",
    "\\frac{7}{2}\\hbar\\omega,\n",
    "\\frac{9}{2}\\hbar\\omega,\n",
    "\\frac{11}{2}\\hbar\\omega,\n",
    "...\n",
    "$$\n",
    "</p>"
   ]
  },
  {
   "cell_type": "markdown",
   "metadata": {},
   "source": [
    "<p style=\"text-align:justify\">\n",
    "correspondiente a la sucesión de kets dada en (<a style=\"text-decoration:none;\" href=\"#ec038\">38</a>).\n",
    "Si calculamos $\\widehat{\\mathcal{H}}\\widehat{\\eta}^{\\ast k}\\left|0\\right\\rangle ,$ a partir de (<a style=\"text-decoration:none;\" href=\"#ec025\">25</a>) , con $k\\in\\mathbb{Z}_{0}^{+}$, obtenemos\n",
    "</p>"
   ]
  },
  {
   "cell_type": "markdown",
   "metadata": {},
   "source": [
    "<p>\n",
    "<span id=\"ec040\" style=\"float:right;\">(40)</span>\n",
    "$$\n",
    "\\widehat{\\mathcal{H}}\\widehat{\\eta}^{\\ast k}\\left|0\\right\\rangle =\n",
    "\\hbar\\omega\\left(\\widehat{\\eta}\\,{\\widehat{\\eta}}^{\\ast{k+1}}\\left|0\\right\\rangle -\n",
    "\\frac{1}{2}{\\widehat{\\eta}}^{\\ast{k}}\\left|0\\right\\rangle \\right),\n",
    "$$\n",
    "</p>"
   ]
  },
  {
   "cell_type": "markdown",
   "metadata": {},
   "source": [
    "<p style=\"text-align:justify\">\n",
    "considerando que\n",
    "</p>"
   ]
  },
  {
   "cell_type": "markdown",
   "metadata": {},
   "source": [
    "<p>\n",
    "<span id=\"ec041\" style=\"float:right;\">(41)</span>\n",
    "$$\n",
    "\\widehat{\\eta}\\,{\\widehat{\\eta}}^{\\ast{k+1}}\\left|0\\right\\rangle =\n",
    "\\left(k+1\\right){\\widehat{\\eta}}^{\\ast{k}}\\left|0\\right\\rangle ,\n",
    "$$\n",
    "</p>"
   ]
  },
  {
   "cell_type": "markdown",
   "metadata": {},
   "source": [
    "<p style=\"text-align:justify\">\n",
    "entonces (<a style=\"text-decoration:none;\" href=\"#ec040\">40</a>) deriva en\n",
    "</p>"
   ]
  },
  {
   "cell_type": "markdown",
   "metadata": {},
   "source": [
    "<p>\n",
    "<span id=\"ec042\" style=\"float:right;\">(42)</span>\n",
    "$$\n",
    "\\widehat{\\mathcal{H}}\\widehat{\\eta}^{\\ast k}\\left|0\\right\\rangle =\n",
    "\\hbar\\omega\\left(k+\\frac{1}{2}\\right){\\widehat{\\eta}}^{\\ast{k}}\\left|0\\right\\rangle .\n",
    "$$\n",
    "</p>"
   ]
  },
  {
   "cell_type": "markdown",
   "metadata": {},
   "source": [
    "<p style=\"text-align:justify\">\n",
    "Esta última ecuación relaciona cada autoket ${\\widehat{\\eta}}^{\\ast{k}}\\left|0\\right\\rangle $ del operador $\\widehat{\\mathcal{H}}$ con su respectivo autovalor $(k+\\frac{1}{2})\\hbar\\omega$. Dado que las variables $\\widehat{q}$ y $\\widehat{p}$ se pueden representar completamente por las variables ${\\widehat{\\eta}}$ y ${\\widehat{\\eta}}^{\\ast}$ a partir (<a style=\"text-decoration:none;\" href=\"#ec024\">24</a>), entonces la los auto valores $(k+\\frac{1}{2})\\hbar\\omega$ son los únicos, pues en caso contrario habrían más variables dinámicas.\n",
    "Finalmente, dada la normalización de $\\left|0\\right\\rangle $ implica que la norma del ket ${\\widehat{\\eta}}^{\\ast}\\left|0\\right\\rangle $ es\n",
    "</p>"
   ]
  },
  {
   "cell_type": "markdown",
   "metadata": {},
   "source": [
    "<p>\n",
    "<span id=\"ec043\" style=\"float:right;\">(43)</span>\n",
    "$$\n",
    "\\left\\langle 0\\left|{\\widehat{\\eta}}^{k}\\,{\\widehat{\\eta}}^{\\ast{k}}\\right|0\\right\\rangle =k!\n",
    "$$\n",
    "</p>"
   ]
  },
  {
   "cell_type": "markdown",
   "metadata": {},
   "source": [
    "<p style=\"text-align:justify\">\n",
    "por lo cual el conjunto normalizado de autokets de operador $\\widehat{\\mathcal{H}}$ resulta\n",
    "</p>"
   ]
  },
  {
   "cell_type": "markdown",
   "metadata": {},
   "source": [
    "<p>\n",
    "<span id=\"ec044\" style=\"float:right;\">(44)</span>\n",
    "$$\n",
    "\\left\\{\\frac{1}{\\sqrt{k!}}{\\widehat{\\eta}}^{\\ast{k}}\\left|0\\right\\rangle \\right\\}_{k=0}^{\\infty}.\n",
    "$$\n",
    "</p>"
   ]
  },
  {
   "cell_type": "markdown",
   "metadata": {},
   "source": [
    "<p style=\"text-align:justify\">\n",
    "Este conjunto es una base para de la representación en la cual el operador $\\widehat{\\mathcal{H}}$ es diagonal, así pues ket $\\left|\\sigma\\right\\rangle $, que represente algún estado del oscilador, acepta la descomposición\n",
    "</p>"
   ]
  },
  {
   "cell_type": "markdown",
   "metadata": {},
   "source": [
    "<p>\n",
    "<span id=\"ec045\" style=\"float:right;\">(45)</span>\n",
    "$$\n",
    "\\left|\\sigma\\right\\rangle =\\sum_{k=0}^{\\infty}\\frac{{\\sigma}_{k}}{\\sqrt{k!}}{\\widehat{\\eta}}^{\\ast{k}}\\left|0\\right\\rangle \n",
    "$$\n",
    "</p>"
   ]
  },
  {
   "cell_type": "markdown",
   "metadata": {},
   "source": [
    "<p style=\"text-align:justify\">\n",
    "donde los $\\sigma_{k}\\in\\mathbb{R}$. Así, para el estado definido $\\left|\\sigma\\right\\rangle $, la probabilidad de que el oscilador armónico esté en el estado $k$ será\n",
    "</p>"
   ]
  },
  {
   "cell_type": "markdown",
   "metadata": {},
   "source": [
    "<p>\n",
    "<span id=\"ec046\" style=\"float:right;\">(46)</span>\n",
    "$$\n",
    "P(k)=\\left|x\\right|^{2}\n",
    "$$\n",
    "</p>"
   ]
  },
  {
   "cell_type": "markdown",
   "metadata": {},
   "source": [
    "### 2.3. La función de onda del estado fundamental"
   ]
  },
  {
   "cell_type": "markdown",
   "metadata": {},
   "source": [
    "<p style=\"text-align:justify\">\n",
    "Calculemos ahora la función de onda del estado fundamental a partir de\n",
    "</p>"
   ]
  },
  {
   "cell_type": "markdown",
   "metadata": {},
   "source": [
    "<p>\n",
    "<span id=\"ec047\" style=\"float:right;\">(47)</span>\n",
    "$$\n",
    "\\left\\langle q|0\\right\\rangle =\\psi_{0}(q)\n",
    "$$\n",
    "</p>"
   ]
  },
  {
   "cell_type": "markdown",
   "metadata": {},
   "source": [
    "<p style=\"text-align:justify\">\n",
    "lo cual es posible a la luz de (<a style=\"text-decoration:none;\" href=\"#ec037\">37</a>), pues si multiplicamos (<a style=\"text-decoration:none;\" href=\"#ec037\">37</a>) por $\\left\\langle q\\right|$ y hacemos uso de (<a style=\"text-decoration:none;\" href=\"#ec024\">24</a>)\n",
    "</p>"
   ]
  },
  {
   "cell_type": "markdown",
   "metadata": {},
   "source": [
    "<p>\n",
    "<span id=\"ec048\" style=\"float:right;\">(48)</span>\n",
    "$$\n",
    "\\left\\langle q\\right|\\widehat{\\eta}\\left|0\\right\\rangle =\n",
    "\\frac{1}{2m\\hbar\\omega}\\left\\langle q\\left|m\\omega\\widehat{q}+i\\widehat{p}\\right|0\\right\\rangle \n",
    "$$\n",
    "</p>"
   ]
  },
  {
   "cell_type": "markdown",
   "metadata": {},
   "source": [
    "<p style=\"text-align:justify\">\n",
    "El reemplazo de los operadores diferenciales equivalentes a $\\widehat{q}$ y $\\widehat{p}$ en (<a style=\"text-decoration:none;\" href=\"#ec048\">48</a>) nos conduce a la ecuación diferencial\n",
    "</p>"
   ]
  },
  {
   "cell_type": "markdown",
   "metadata": {},
   "source": [
    "<p>\n",
    "<span id=\"ec049\" style=\"float:right;\">(49)</span>\n",
    "$$\n",
    "\\hbar\\frac{\\partial}{\\partial{t}}\\left\\langle q|0\\right\\rangle +m\\omega{q}\\left\\langle q|0\\right\\rangle =0,\n",
    "$$\n",
    "</p>"
   ]
  },
  {
   "cell_type": "markdown",
   "metadata": {},
   "source": [
    "<p style=\"text-align:justify\">\n",
    "cuya solución normalizada resulta ser\n",
    "</p>"
   ]
  },
  {
   "cell_type": "markdown",
   "metadata": {},
   "source": [
    "<p>\n",
    "<span id=\"ec050\" style=\"float:right;\">(50)</span>\n",
    "$$\n",
    "\\left\\langle q|0\\right\\rangle =\\psi_{0}(q)=\\sqrt[4]{\\frac{m\\omega}{\\pi\\hbar}}\\,{\\textrm{e}}^{-\\textstyle{\\frac{m\\omega{q}^{2}}{2\\hbar}}}.\n",
    "$$\n",
    "</p>"
   ]
  },
  {
   "cell_type": "markdown",
   "metadata": {},
   "source": [
    "<p style=\"text-align:justify\">\n",
    "La función de onda así obtenida es la correspondiente al estado estacionario fundamental del oscilador armónico.\n",
    "</p>"
   ]
  },
  {
   "cell_type": "markdown",
   "metadata": {},
   "source": [
    "### 2.4. La función de onda para los estados excitados"
   ]
  },
  {
   "cell_type": "markdown",
   "metadata": {},
   "source": [
    "<p style=\"text-align:justify\">\n",
    "Para el caso general podemos tomar cualquiera de los autokets de (<a style=\"text-decoration:none;\" href=\"#ec044\">44</a>) con $k\\neq0$, entonces la función de onda para dicho estado vendrá dada por\n",
    "</p>"
   ]
  },
  {
   "cell_type": "markdown",
   "metadata": {},
   "source": [
    "<p>\n",
    "<span id=\"ec051\" style=\"float:right;\">(51)</span>\n",
    "$$\n",
    "\\left\\langle q\\left|{\\widehat{\\eta}}^{\\ast k}\\right|0\\right\\rangle =\\sqrt{k!}{\\psi}_{k}(q).\n",
    "$$\n",
    "</p>"
   ]
  },
  {
   "cell_type": "markdown",
   "metadata": {},
   "source": [
    "<p style=\"text-align:justify\">\n",
    "Podemos expresar (<a style=\"text-decoration:none;\" href=\"#ec051\">51</a>) en términos del estado fundamental reemplazando directamente la expresión de ${\\widehat{\\eta}}^{\\ast}$ de modo que resulta\n",
    "</p>"
   ]
  },
  {
   "cell_type": "markdown",
   "metadata": {},
   "source": [
    "<p>\n",
    "<span id=\"ec052\" style=\"float:right;\">(52)</span>\n",
    "$$\n",
    "\\left\\langle q\\left|{\\widehat{\\eta}}^{\\ast}\\right|0\\right\\rangle =\n",
    "\\frac{1}{\\sqrt{2^k}}\\left(\\sqrt{\\frac{m\\omega}{\\hbar}}q+\n",
    "\\sqrt{\\frac{\\hbar}{m\\omega}}\\frac{\\partial}{\\partial{q}}\\right)^{k}\\psi_{0}(q),\n",
    "$$\n",
    "</p>"
   ]
  },
  {
   "cell_type": "markdown",
   "metadata": {},
   "source": [
    "<p style=\"text-align:justify\">\n",
    "y en consecuencia\n",
    "</p>"
   ]
  },
  {
   "cell_type": "markdown",
   "metadata": {},
   "source": [
    "<p>\n",
    "<span id=\"ec053\" style=\"float:right;\">(53)</span>\n",
    "$$\n",
    "{\\psi}_{k}(q)=\n",
    "\\frac{1}{\\sqrt{k!{2}^{k}}}\\left(\\sqrt{\\frac{m\\omega}{\\hbar}}q+\n",
    "\\sqrt{\\frac{\\hbar}{m\\omega}}\\frac{\\partial}{\\partial{q}}\\right)^{k}\\psi_{0}(q),\n",
    "$$\n",
    "</p>"
   ]
  },
  {
   "cell_type": "markdown",
   "metadata": {},
   "source": [
    "<p style=\"text-align:justify\">\n",
    "Considérese ahora la aplicación del operador en (<a style=\"text-decoration:none;\" href=\"#ec053\">53</a>) sobre $\\psi_0$ con $k=1$, entonces se llega a\n",
    "</p>"
   ]
  },
  {
   "cell_type": "markdown",
   "metadata": {},
   "source": [
    "<p>\n",
    "<span id=\"ec054\" style=\"float:right;\">(54)</span>\n",
    "$$\n",
    "\\left(\\sqrt{\\frac{m\\omega}{\\hbar}}q+\\sqrt{\\frac{\\hbar}{m\\omega}}\\frac{\\partial}{\\partial{q}}\\right)\\psi_{0}=\n",
    "-\\sqrt{\\frac{\\hbar}{m\\omega}}{\\textrm{e}}^{\\frac{m\\omega{q^2}}{2\\hbar}}\\frac{\\partial}{\\partial{q}}\\left({\\psi_0}{\\textrm{e}}^{-\\frac{m\\omega{q}^2}{2\\hbar}}\\right)\n",
    "$$\n",
    "</p>"
   ]
  },
  {
   "cell_type": "markdown",
   "metadata": {},
   "source": [
    "<p style=\"text-align:justify\">\n",
    "Por inducción, a partir de (<a style=\"text-decoration:none;\" href=\"#ec054\">54</a>), se puede demostrar el siguiente resultado\n",
    "</p>"
   ]
  },
  {
   "cell_type": "markdown",
   "metadata": {},
   "source": [
    "<p>\n",
    "<span id=\"ec055\" style=\"float:right;\">(55)</span>\n",
    "$$\n",
    "\\begin{array}{ccc}\n",
    "\\displaystyle{{\\left(\\sqrt{\\frac{m\\omega}{\\hbar}}q+\\sqrt{\\frac{\\hbar}{m\\omega}}\\frac{\\partial}{\\partial{q}}\\right)}^{k}\\psi_{0}} & = &\\\\\n",
    "& & \\!\\!\\!\\!\\!\\!\\!\\!\\!\\!\\!\\!\\!\\!\\!\\!\\!\\!\\!\\!\\!\\!\\!\\!\\displaystyle{(-1)^k\\left(\\sqrt{\\frac{\\hbar }{m\\omega }}\\right)^k{\\textrm{e}}^{\\textstyle{\\frac{m\\omega{q}^{2}}{2\\hbar}}}\\frac{\\partial ^k}{\\partial q^k}\\left({\\textrm{e}}^{-\\textstyle{\\frac{m\\omega{q}^{2}}{2\\hbar}}}\\psi _0(q)\\right)}\n",
    "\\end{array}\n",
    "$$\n",
    "</p>"
   ]
  },
  {
   "cell_type": "markdown",
   "metadata": {},
   "source": [
    "<p style=\"text-align:justify\">\n",
    "Remplazando esta ultima expresion y (<a style=\"text-decoration:none;\" href=\"ec050\">50</a>) en (<a style=\"text-decoration:none;\" href=\"#ec053\">53</a>)se tiene que la función de onda del estado $k$ resulta\n",
    "</p>"
   ]
  },
  {
   "cell_type": "markdown",
   "metadata": {},
   "source": [
    "<p>\n",
    "<span id=\"ec056\" style=\"float:right;\">(56)</span>\n",
    "$$\n",
    "\\psi _k(q)=\n",
    "\\frac{(-1)^k}{\\sqrt{k!2^k}}\\sqrt[4]{\\frac{m\\omega }{\\pi \\hbar }}\n",
    "\\left(\\sqrt{\\frac{\\hbar}{m\\omega}}\\right)^k{\\textrm{e}}^{\\textstyle{\\frac{m\\omega{q}^{2}}{2\\hbar}}}\\frac{\\partial^k}{\\partial q^k}\\left({\\textrm{e}}^{-\\textstyle{\\frac{m\\omega{q}^{2}}{\\hbar}}}\\right)\n",
    "$$\n",
    "</p>"
   ]
  },
  {
   "cell_type": "markdown",
   "metadata": {},
   "source": [
    "<p style=\"text-align:justify\">\n",
    "Manipulando de forma adecuada la exponencial no afectada por la derivada y separando términos convenientemente podemos reconocer la expresión\n",
    "</p>"
   ]
  },
  {
   "cell_type": "markdown",
   "metadata": {},
   "source": [
    "<p>\n",
    "<span id=\"ec057\" style=\"float:right;\">(57)</span>\n",
    "$$\n",
    "(-1)^k\\left(\\sqrt{\\frac{\\hbar}{m\\omega}}\\right)^k{\\textrm{e}}^{\\textstyle{\\frac{m\\omega{q}^{2}}{\\hbar}}}\\frac{\\partial ^k}{\\partial q^k}\\left({\\textrm{e}}^{-\\textstyle{\\frac{m\\omega{q}^{2}}{\\hbar}}}\\right)\n",
    "$$\n",
    "</p>"
   ]
  },
  {
   "cell_type": "markdown",
   "metadata": {},
   "source": [
    "<p style=\"text-align:justify\">\n",
    "que representa la fórmula de Rodríguez que genera el polinomio de Hermite $H_k$ de grado $k$. Esta observación final nos permite representar la función de onda $\\psi_k(q)$ como\n",
    "</p>"
   ]
  },
  {
   "cell_type": "markdown",
   "metadata": {},
   "source": [
    "<p>\n",
    "<span id=\"ec058\" style=\"float:right;\">(58)</span>\n",
    "$$\n",
    "\\psi _k(q)=\n",
    "\\frac{1}{\\sqrt{k!2^k}}\\sqrt[4]{\\frac{m\\omega }{\\pi \\hbar }}\n",
    "H_k\\left(\\sqrt{\\frac{m\\omega }{\\hbar }}q\\right)\n",
    "{\\textrm{e}}^{-\\textstyle{\\frac{m\\omega{q}^{2}}{2\\hbar}}}\n",
    "$$\n",
    "</p>"
   ]
  },
  {
   "cell_type": "markdown",
   "metadata": {},
   "source": [
    "## 3. Implementación de $\\Psi_{k}(q)$ en Python"
   ]
  },
  {
   "cell_type": "markdown",
   "metadata": {},
   "source": [
    "<p style=\"text-align:justify\">\n",
    "Resulta de gran utilidad disponer de una representación gráfica de las autofunciones del operador Hamiltoniano del oscilador armónico, lo cual es el propósito de esta sección. A tal efecto partimos de la <em>ec.</em> (<a style=\"text-decoration:none;\" href=\"#ec058\">58</a>) obtenida el final de la sección anterior.\n",
    "</p>"
   ]
  },
  {
   "cell_type": "markdown",
   "metadata": {},
   "source": [
    "$$\n",
    "\\psi _k(q)=\n",
    "\\frac{1}{\\sqrt{k!2^k}}\\sqrt[4]{\\frac{m\\omega }{\\pi \\hbar }}\n",
    "H_k\\left(\\sqrt{\\frac{m\\omega }{\\hbar }}q\\right)\n",
    "{\\textrm{e}}^{-\\textstyle{\\frac{m\\omega{q}^{2}}{2\\hbar}}}\n",
    "$$"
   ]
  },
  {
   "cell_type": "markdown",
   "metadata": {},
   "source": [
    "<p style=\"text-align:justify\">\n",
    "y consideremos la igualdad\n",
    "</p>"
   ]
  },
  {
   "cell_type": "markdown",
   "metadata": {},
   "source": [
    "<p>\n",
    "<span id=\"ec059\" style=\"float:right;\">(59)</span>\n",
    "$$\n",
    "\\sqrt{\\frac{m\\omega}{\\hbar}}=1\n",
    "$$\n",
    "</p>"
   ]
  },
  {
   "cell_type": "markdown",
   "metadata": {},
   "source": [
    "<p style=\"text-align:justify\">\n",
    "obteniendo así\n",
    "</p>"
   ]
  },
  {
   "cell_type": "markdown",
   "metadata": {},
   "source": [
    "<p>\n",
    "<span id=\"ec060\" style=\"float:right;\">(60)</span>\n",
    "$$\n",
    "\\psi_k(\\xi)=\n",
    "\\frac{1}{\\sqrt{k!2^k\\sqrt{\\pi}}}\n",
    "H_k\\left(\\xi\\right)\n",
    "{\\textrm{e}}^{-{\\frac{1}{2}\\xi^2}}\n",
    "$$\n",
    "</p>"
   ]
  },
  {
   "cell_type": "markdown",
   "metadata": {},
   "source": [
    "<p style=\"text-align:justify\">\n",
    "donde se ha reemplazado $q$ por $\\xi$ por razones que se explicaran más adelante.\n",
    "</p>"
   ]
  },
  {
   "cell_type": "markdown",
   "metadata": {},
   "source": [
    "<p style=\"text-align:justify\">\n",
    "Para implementar el cálculo de $\\psi_k(\\xi)$ en Python requerimos calcular primero $k!$ y $H_k(\\xi)$ pues los demás factores pueden calcularse con funciones propias del lenguaje. En primer lugar, el cálculo del factorial de $k$ se puede realizar mediante la implementación de la clásica regla de recurrencia\n",
    "</p>"
   ]
  },
  {
   "cell_type": "markdown",
   "metadata": {},
   "source": [
    "<p>\n",
    "<span id=\"ec061\" style=\"float:right;\">(61)</span>\n",
    "$$\n",
    "k!=k\\cdot(k-1)!\n",
    "$$\n",
    "</p>"
   ]
  },
  {
   "cell_type": "markdown",
   "metadata": {},
   "source": [
    "<p style=\"text-align:justify\">\n",
    "la cual puede ser implementada como según el código mostrado en el Script siguiente.\n",
    "</p>"
   ]
  },
  {
   "cell_type": "code",
   "execution_count": null,
   "metadata": {},
   "outputs": [],
   "source": [
    "class Memoize:\n",
    "    def __init__(self, f):\n",
    "        self.f = f\n",
    "        self.memo = {}\n",
    "        \n",
    "    def __call__(self, *args):\n",
    "        if args not in self.memo.keys():\n",
    "            self.memo[args] = self.f(*args)\n",
    "        \n",
    "        return self.memo[args]"
   ]
  },
  {
   "cell_type": "code",
   "execution_count": null,
   "metadata": {},
   "outputs": [],
   "source": [
    "@Memoize\n",
    "def factorial(n):\n",
    "    return 1 if n == 0 else n * factorial(n - 1)"
   ]
  },
  {
   "cell_type": "markdown",
   "metadata": {},
   "source": [
    "<p style=\"text-align:justify\">\n",
    "El cálculo de $H_k(\\xi)$ se hace uso de la regla de recurrencia\n",
    "</p>"
   ]
  },
  {
   "cell_type": "markdown",
   "metadata": {},
   "source": [
    "<p>\n",
    "<span id=\"ec062\" style=\"float:right;\">(62)</span>\n",
    "$$\n",
    "H_{k+1}(\\xi)=2{\\xi}H_k{\\xi}-2kH_{k-1}{\\xi}.\n",
    "$$\n",
    "</p>"
   ]
  },
  {
   "cell_type": "markdown",
   "metadata": {},
   "source": [
    "<p style=\"text-align:justify\">\n",
    "La cual puede implementarse al igual que $k!$. Así, una tentativa de código sería la que se muestra en el Script acontinuación\n",
    "</p>"
   ]
  },
  {
   "cell_type": "code",
   "execution_count": null,
   "metadata": {},
   "outputs": [],
   "source": [
    "@Memoize\n",
    "def Hermite(n, x):\n",
    "    if n == 0:\n",
    "        return 1\n",
    "    \n",
    "    hermite_v = [1, 2 * x]\n",
    "    \n",
    "    for m in range(2, n + 1):\n",
    "        hermite_v.append(\n",
    "            2 * x * hermite_v[m - 1] - 2 * (m - 1) * hermite_v[m - 2]\n",
    "        )\n",
    "        \n",
    "    return hermite_v[n]"
   ]
  },
  {
   "cell_type": "markdown",
   "metadata": {},
   "source": [
    "<p style=\"text-align:justify\">\n",
    "Con la implementación de las funciones <code>factorial</code> y <code>Hermite</code> resulta simple implementar las funciones $\\psi_k(\\xi)$. Una opción puede ser la que se muestra acontinuación\n",
    "</p>"
   ]
  },
  {
   "cell_type": "code",
   "execution_count": null,
   "metadata": {},
   "outputs": [],
   "source": [
    "@Memoize\n",
    "def Psi(n, x):\n",
    "    return (\n",
    "        pow(pi, -0.25) * \n",
    "        pow(2.0, -0.5 * n) *\n",
    "        pow(factorial(n), -0.5) *\n",
    "        Hermite(n, x) *\n",
    "        exp(-0.5*pow(x,2))\n",
    "    )"
   ]
  },
  {
   "cell_type": "markdown",
   "metadata": {},
   "source": [
    "## 4. Gráficos"
   ]
  },
  {
   "cell_type": "markdown",
   "metadata": {},
   "source": [
    "<p style=\"text-align:justify\">\n",
    "Los resultados obtenidos con la implementación son básicamente gráficos y se prestan como recurso para una visualización de las funciones de onda asociadas oscilador armónico así como sus distribuciones de probabilidad.\n",
    "</p>"
   ]
  },
  {
   "cell_type": "markdown",
   "metadata": {},
   "source": [
    "<p style=\"text-align:justify\">\n",
    "Es importante tener en cuenta que estos resultados se complementan con la interpretación de (<a style=\"text-decoration:none;\" href=\"#ec059\">59</a>) como la elección de la unidad natural longitudes para el oscilador. Y en efecto, si tenemos en cuenta las dimensiones tenemos que\n",
    "</p>"
   ]
  },
  {
   "cell_type": "markdown",
   "metadata": {},
   "source": [
    "<p>\n",
    "<span id=\"ec063\" style=\"float:right;\">(63)</span>\n",
    "$$\n",
    "\\left[\\frac{\\hbar}{m\\omega}\\right]=L^2\n",
    "$$\n",
    "</p>"
   ]
  },
  {
   "cell_type": "markdown",
   "metadata": {},
   "source": [
    "<p style=\"text-align:justify\">\n",
    "donde $L$ representa longitud. Con esto\n",
    "</p>"
   ]
  },
  {
   "cell_type": "markdown",
   "metadata": {},
   "source": [
    "<p>\n",
    "<span id=\"ec064\" style=\"float:right;\">(64)</span>\n",
    "$$\n",
    "\\sqrt{\\frac{m\\omega}{\\hbar}}q=\\frac{q}{\\sqrt{\\displaystyle{\\frac{\\hbar}{m\\omega}}}}\n",
    "$$\n",
    "</p>"
   ]
  },
  {
   "cell_type": "markdown",
   "metadata": {},
   "source": [
    "<p style=\"text-align:justify\">\n",
    "representa unn cociente de longitudes. Esto es cierto en el caso en el cual $q$ se tome como una longitud. Si $q$ no representa una longitud, entonces $m$ no será necesariamente una masa, sino que será una magnitud tal que (<a style=\"text-decoration:none;\" href=\"#ec064\">64</a>) represente un cociente entre magnitudes con las mismas dimensiones. En estas condiciones es posible tomar el denominador del lado izquierdo de la ecuación como la unidad de referencia para medir $q$. Así, este cociente representa una medida relativa cuyo resultado se representa por $\\xi$ en  (<a style=\"text-decoration:none;\" href=\"#ec060\">60</a>)\n",
    "</p>"
   ]
  },
  {
   "cell_type": "markdown",
   "metadata": {},
   "source": [
    "<p style=\"text-align:justify\">\n",
    "Con esta interpretación clara de  (<a style=\"text-decoration:none;\" href=\"#ec059\">59</a>) se pueden interpretar adecuadamente las gráficas que se siguen a continuación.\n",
    "</p>"
   ]
  },
  {
   "cell_type": "markdown",
   "metadata": {},
   "source": [
    "#### Ajustes generales para los gráficos"
   ]
  },
  {
   "cell_type": "code",
   "execution_count": null,
   "metadata": {},
   "outputs": [],
   "source": [
    "%matplotlib notebook"
   ]
  },
  {
   "cell_type": "code",
   "execution_count": null,
   "metadata": {},
   "outputs": [],
   "source": [
    "from distutils.spawn import find_executable\n",
    "\n",
    "from matplotlib.font_manager import *\n",
    "from matplotlib.collections import *\n",
    "from matplotlib.patches import *\n",
    "from matplotlib.pylab import *\n",
    "from matplotlib import colors\n",
    "\n",
    "import seaborn\n",
    "\n",
    "\n",
    "rem = 12\n",
    "\n",
    "seaborn.set(context='notebook', style='darkgrid')\n",
    "\n",
    "ioff()\n",
    "\n",
    "rc('lines', linewidth=1)\n",
    "rc('font', family='serif')\n",
    "rc('font', size=rem)\n",
    "rc('axes', titlepad=1.500*rem)\n",
    "rc('axes', titlesize=1.728*rem)\n",
    "rc('axes', labelsize=1.200*rem)\n",
    "rc('legend', fontsize=1.000*rem)\n",
    "rc('xtick', labelsize=0.833*rem)\n",
    "rc('ytick', labelsize=0.833*rem)\n",
    "\n",
    "if find_executable('latex'):\n",
    "    rc('text', usetex=True)\n",
    "\n",
    "material_palette = {\n",
    "    -1: \"#212121\",\n",
    "    0: \"#F44336\",\n",
    "    1: \"#E91E63\",\n",
    "    2: \"#9C27B0\",\n",
    "    3: \"#673AB7\",\n",
    "    4: \"#3F51B5\",\n",
    "    5: \"#2196F3\",\n",
    "    6: \"#03A9F4\",\n",
    "    7: \"#00BCD4\",\n",
    "    8: \"#009688\",\n",
    "    9: \"#4CAF50\",\n",
    "    10: \"#8BC34A\",\n",
    "    11: \"#CDDC39\",\n",
    "    12: \"#FFEB3B\",\n",
    "    13: \"#FFC107\",\n",
    "    14: \"#FF9800\",\n",
    "    15: \"#FF5722\",\n",
    "}"
   ]
  },
  {
   "cell_type": "markdown",
   "metadata": {},
   "source": [
    "#### Gráfico de los polinomios de Hermite de orden 0 al 4"
   ]
  },
  {
   "cell_type": "code",
   "execution_count": null,
   "metadata": {},
   "outputs": [],
   "source": [
    "fig = figure(1, figsize=(9.75, 6.50), frameon=False)\n",
    "axs = fig.add_subplot('111')\n",
    "\n",
    "X = linspace(-3, 4, 300)\n",
    "\n",
    "for n in range(5):\n",
    "    Y = [Hermite(n, x) for x in X]\n",
    "    axs.plot(X, Y, label=\"$\\mathcal{H}_{\" + \"{0}\".format(n) + \"}$\", color=material_palette[3*n%16])\n",
    "\n",
    "axs.set_xlim(-3, 4)\n",
    "axs.set_xlabel(\"$x$\")\n",
    "axs.set_xticks([x for x in range(-3,5)])\n",
    "axs.set_xticklabels([\"${0}$\".format(x) for x in range(-3,5)])\n",
    "\n",
    "axs.set_ylim(-30, 30)\n",
    "axs.set_ylabel(\"$\\mathcal{H}_n(x)$\")\n",
    "axs.set_yticks([x for x in range(-30,40,10)])\n",
    "axs.set_yticklabels([\"${0}$\".format(x) for x in range(-30,40,10)])\n",
    "\n",
    "axs.set_title(\"$\\mathrm{Polinomios\\ de\\ Hermite}$\")\n",
    "\n",
    "axs.legend(loc=4)\n",
    "axs.grid(linestyle='-')\n",
    "fig.tight_layout()\n",
    "show()"
   ]
  },
  {
   "cell_type": "markdown",
   "metadata": {},
   "source": [
    "#### Gráfico de las funciones de onda y la densidad de probabilidad desde el orden 0 hasta el 12"
   ]
  },
  {
   "cell_type": "code",
   "execution_count": null,
   "metadata": {},
   "outputs": [],
   "source": [
    "from IPython.display import display\n",
    "from ipywidgets import *\n",
    "\n",
    "w_order_label = Label(value=\"Orden\")\n",
    "w_order_label.layout.width = '100px'\n",
    "\n",
    "w_order_slider = IntSlider(min=0, max=12, step=1, value=0)\n",
    "\n",
    "w_order_next = Button(icon='fa-step-forward')\n",
    "w_order_next.layout.width = '45.3333px'\n",
    "\n",
    "w_order_prev = Button(icon='fa-step-backward')\n",
    "w_order_prev.layout.width = '45.3333px'\n",
    "\n",
    "wc_order = HBox([w_order_label, w_order_slider, w_order_prev, w_order_next])\n",
    "\n",
    "w_ouput = Output()\n",
    "w_ouput.layout.height = '770px'\n",
    "\n",
    "wc_container = VBox([wc_order, w_ouput])\n",
    "\n",
    "\n",
    "def update_slider(*args):\n",
    "    if args[0] == w_order_next:\n",
    "        w_order_slider.value = (w_order_slider.value + 1)%13\n",
    "    elif args[0] == w_order_prev:\n",
    "        w_order_slider.value = (w_order_slider.value - 1)%13\n",
    "    else:\n",
    "        pass\n",
    "    \n",
    "\n",
    "fig = None\n",
    "wf_axs = None\n",
    "wf_graph = None \n",
    "df_axs = None\n",
    "df_graph = None \n",
    "X = linspace(-6, 6, 300)\n",
    "\n",
    "def make_plot(*args):\n",
    "\n",
    "    n = w_order_slider.value\n",
    "    \n",
    "    w_ouput.clear_output()\n",
    "    \n",
    "    with w_ouput:\n",
    "        global X\n",
    "        global fig\n",
    "        global wf_axs\n",
    "        global wf_graph\n",
    "        global df_axs\n",
    "        global df_graph\n",
    "    \n",
    "        fig = figure(2, figsize=(9.75, 6.50), frameon=False)\n",
    "        fig.clf()\n",
    "        wf_axs = fig.add_subplot('211')\n",
    "\n",
    "        Y = [Psi(n, x) for x in X]\n",
    "\n",
    "        wf_graph, = wf_axs.plot(X, Y, label=\"$\\mathcal{\\psi}_{\" + \"{0}\".format(n) + \"}$\", color=material_palette[n%16])\n",
    "\n",
    "        wf_axs.set_xlim(-6, 6)\n",
    "        wf_axs.set_xlabel(\"$x$\")\n",
    "        wf_axs.set_xticks([x for x in range(-6,7)])\n",
    "        wf_axs.set_xticklabels([\"${0}$\".format(x) for x in range(-6,7)])\n",
    "\n",
    "        wf_axs.set_ylim(-1, 1)\n",
    "        wf_axs.set_ylabel(\"$\\mathcal{\\psi}_n(x)$\")\n",
    "        wf_axs.set_yticks([x for x in linspace(-1,1,5)])\n",
    "        wf_axs.set_yticklabels([\"${0:.2f}$\".format(x) for x in linspace(-1,1,5)])\n",
    "\n",
    "        wf_axs.set_title(\"$\\mathrm{Amplitud\\ de\\ probabilidad}\\ \\mathcal{\\psi}_{\" + \"{0}\".format(n) + \"}$\")\n",
    "\n",
    "        wf_axs.legend(loc=4)\n",
    "        wf_axs.grid('on')\n",
    "\n",
    "        # Amplitud de probabilidad Psi^2\n",
    "        df_axs = fig.add_subplot('212')\n",
    "\n",
    "        Y = [Psi(n, x)**2 for x in X]\n",
    "\n",
    "        df_graph = df_axs.fill_between(X, 0, Y, label=\"$\\\\left|\\mathcal{\\psi}_{\" + \"{0}\".format(n) + \"}\\\\right|^{2}$\",\n",
    "                        facecolor=material_palette[n%16], alpha=0.5, color=material_palette[n%16])\n",
    "\n",
    "        df_axs.set_xlim(-6, 6)\n",
    "        df_axs.set_xlabel(\"$x$\")\n",
    "        df_axs.set_xticks([x for x in range(-6,7)])\n",
    "        df_axs.set_xticklabels([\"${0}$\".format(x) for x in range(-6,7)])\n",
    "\n",
    "        df_axs.set_ylim(-1, 1)\n",
    "        df_axs.set_ylabel(\"$\\\\left|\\mathcal{\\psi}_n(x)\\\\right|^{2}$\")\n",
    "        df_axs.set_yticks([x for x in linspace(-1,1,5)])\n",
    "        df_axs.set_yticklabels([\"${0:.2f}$\".format(x) for x in linspace(-1,1,5)])\n",
    "\n",
    "        df_axs.set_title(\"$\\mathrm{Densidad\\ de\\ probabilidad} \\\\left|\\mathcal{\\psi}_{\" + \"{0}\".format(n) + \"}\\\\right|^{2}$\")\n",
    "\n",
    "        df_axs.legend(loc=4)\n",
    "        df_axs.grid('on')\n",
    "        fig.tight_layout()\n",
    "        display(fig)\n",
    "\n",
    "        \n",
    "def update_plot(*args):\n",
    "    n = w_order_slider.value\n",
    "\n",
    "    global X\n",
    "    global fig\n",
    "    global wf_axs\n",
    "    global wf_graph\n",
    "    global df_axs\n",
    "    global df_graph\n",
    "    \n",
    "    fig = figure(2)\n",
    "    \n",
    "    Y = [Psi(n, x) for x in X]\n",
    "    \n",
    "    wf_graph.remove()\n",
    "    wf_graph, = wf_axs.plot(X, Y, label=\"$\\mathcal{\\psi}_{\" + \"{0}\".format(n) + \"}$\", color=material_palette[n%16])\n",
    "    wf_axs.set_title(\"$\\mathrm{Amplitud\\ de\\ probabilidad}\\ \\mathcal{\\psi}_{\" + \"{0}\".format(n) + \"}$\")\n",
    "    wf_axs.legend(loc=4)\n",
    "    \n",
    "    Y = [y**2 for y in Y]\n",
    "    \n",
    "    df_graph.remove()\n",
    "    df_graph = df_axs.fill_between(X, 0, Y, label=\"$\\\\left|\\mathcal{\\psi}_{\" + \"{0}\".format(n) + \"}\\\\right|^{2}$\",\n",
    "                        facecolor=material_palette[n%16], alpha=0.5, color=material_palette[n%16])\n",
    "    df_axs.set_title(\"$\\mathrm{Densidad\\ de\\ probabilidad} \\\\left|\\mathcal{\\psi}_{\" + \"{0}\".format(n) + \"}\\\\right|^{2}$\")\n",
    "    df_axs.legend(loc=4)\n",
    "    \n",
    "    fig.canvas.draw()\n",
    "    \n",
    "\n",
    "w_order_slider.observe(update_plot, 'value')\n",
    "w_order_next.on_click(update_slider)\n",
    "w_order_prev.on_click(update_slider)\n",
    "\n",
    "wc_container.on_displayed(make_plot)\n",
    "\n",
    "display(wc_container);"
   ]
  },
  {
   "cell_type": "markdown",
   "metadata": {},
   "source": [
    "#### Neat Example!"
   ]
  },
  {
   "cell_type": "markdown",
   "metadata": {},
   "source": [
    "El siguiente gráfico muesta las funciones de densidad de probabilidad dentro del pozo potencial del oscilador armnónico."
   ]
  },
  {
   "cell_type": "code",
   "execution_count": null,
   "metadata": {},
   "outputs": [],
   "source": [
    "fig = figure(3, figsize=(9.75, 6.50), frameon=False)\n",
    "\n",
    "axs = fig.add_subplot('111')\n",
    "\n",
    "X = linspace(-6, 6, 300)\n",
    "Y = [0.5*x**2 for x in X]\n",
    "\n",
    "axs.plot(X, Y, label=\"$\\mathcal{V}(x)=\\\\frac{1}{2}x^{2}$\", color=material_palette[-1], alpha=0.5, linewidth=1)\n",
    "\n",
    "\n",
    "for n in range(13):\n",
    "    X = linspace(-6, 6, 300)\n",
    "    Y = [Psi(n, x)**2 + n + 0.5 for x in X]\n",
    "    \n",
    "    axs.fill_between(X, n+0.5, Y, label=\"$\\\\left|\\mathcal{\\psi}_{\" + \"{0}\".format(n) + \"}\\\\right|^{2}$\",\n",
    "                    facecolor=material_palette[n%16], alpha=0.5, color=material_palette[n%16] )\n",
    "\n",
    "axs.set_xlim(-6, 6)\n",
    "axs.set_xlabel(\"$x$\")\n",
    "axs.set_xticks([x for x in range(-6,7)])\n",
    "axs.set_xticklabels([\"${0}$\".format(x) for x in range(-6,7)])\n",
    "\n",
    "axs.set_ylim(-0.5, 13.5)\n",
    "axs.set_ylabel(\"$\\\\left|\\mathcal{\\psi}_n(x)\\\\right|^{2} + n + \\\\frac{1}{2}$\")\n",
    "axs.set_yticks(linspace(-0.5,13.5,15))\n",
    "axs.set_yticklabels([\"${0:.2f}$\".format(y) for y in linspace(-0.5,13.5,15)])\n",
    "\n",
    "axs.set_title(\"$\\mathrm{Densidad\\ de\\ probabilidad\\ dentro\\ del\\ pozo\\ potencial}$\", position=(0.5, 1.15))\n",
    "\n",
    "axs.legend(loc=10, ncol=7, bbox_to_anchor=(0.5, 1.1), frameon=True)\n",
    "\n",
    "axs.grid('on')\n",
    "\n",
    "fig.tight_layout()    \n",
    "show()"
   ]
  },
  {
   "cell_type": "code",
   "execution_count": null,
   "metadata": {},
   "outputs": [],
   "source": []
  },
  {
   "cell_type": "code",
   "execution_count": null,
   "metadata": {},
   "outputs": [],
   "source": []
  }
 ],
 "metadata": {
  "anaconda-cloud": {},
  "kernelspec": {
   "display_name": "Python 3",
   "language": "python",
   "name": "python3"
  },
  "language_info": {
   "codemirror_mode": {
    "name": "ipython",
    "version": 3
   },
   "file_extension": ".py",
   "mimetype": "text/x-python",
   "name": "python",
   "nbconvert_exporter": "python",
   "pygments_lexer": "ipython3",
   "version": "3.7.1"
  },
  "widgets": {
   "application/vnd.jupyter.widget-state+json": {
    "state": {
     "038b60e88331451cbb6ebbf6d1ae095d": {
      "model_module": "jupyter-js-widgets",
      "model_module_version": "~2.1.4",
      "model_name": "ButtonModel",
      "state": {
       "_model_module_version": "~2.1.4",
       "_view_module_version": "~2.1.4",
       "icon": "step-forward",
       "layout": "IPY_MODEL_5b782c5e20434eef947cc2c1410b8c5d",
       "style": "IPY_MODEL_17f31c960bb24fd98f15ac924b11d4f2"
      }
     },
     "07e30d681c044f9a8e0bebbbd3be1683": {
      "model_module": "jupyter-js-widgets",
      "model_module_version": "~2.1.4",
      "model_name": "ButtonModel",
      "state": {
       "_model_module_version": "~2.1.4",
       "_view_module_version": "~2.1.4",
       "icon": "step-backward",
       "layout": "IPY_MODEL_848bf71792e744e6a9572c6a0ea05b5f",
       "style": "IPY_MODEL_49adb59a0f8c46b29fc09d8d8e85f405"
      }
     },
     "0a8994a81db145acb8e27ecd7146ab6d": {
      "model_module": "jupyter-js-widgets",
      "model_module_version": "~2.1.4",
      "model_name": "LayoutModel",
      "state": {
       "_model_module_version": "~2.1.4",
       "_view_module_version": "~2.1.4"
      }
     },
     "0e70cd23ca954b5f995451471473cbae": {
      "model_module": "jupyter-js-widgets",
      "model_module_version": "~2.1.4",
      "model_name": "LayoutModel",
      "state": {
       "_model_module_version": "~2.1.4",
       "_view_module_version": "~2.1.4",
       "height": "770px"
      }
     },
     "10a4055884a140978a8ae4a0c0f6960e": {
      "model_module": "jupyter-js-widgets",
      "model_module_version": "~2.1.4",
      "model_name": "LayoutModel",
      "state": {
       "_model_module_version": "~2.1.4",
       "_view_module_version": "~2.1.4"
      }
     },
     "10d7b2886236440eb1be7e2130a0b555": {
      "model_module": "jupyter-js-widgets",
      "model_module_version": "~2.1.4",
      "model_name": "IntSliderModel",
      "state": {
       "_model_module_version": "~2.1.4",
       "_view_module_version": "~2.1.4",
       "layout": "IPY_MODEL_1c70cf0c36d1435f9cb17d716a370af4",
       "max": 12,
       "style": "IPY_MODEL_401a3ee4ba7340949b393d6905ccf550"
      }
     },
     "12689c590dd941d8a82c2ed83ff1468d": {
      "model_module": "jupyter-js-widgets",
      "model_module_version": "~2.1.4",
      "model_name": "LayoutModel",
      "state": {
       "_model_module_version": "~2.1.4",
       "_view_module_version": "~2.1.4",
       "height": "770px"
      }
     },
     "17f31c960bb24fd98f15ac924b11d4f2": {
      "model_module": "jupyter-js-widgets",
      "model_module_version": "~2.1.4",
      "model_name": "ButtonStyleModel",
      "state": {
       "_model_module_version": "~2.1.4",
       "_view_module_version": "~2.1.4"
      }
     },
     "18b4bb72c2da43a3808fadffeb32e847": {
      "model_module": "jupyter-js-widgets",
      "model_module_version": "~2.1.4",
      "model_name": "IntSliderModel",
      "state": {
       "_model_module_version": "~2.1.4",
       "_view_module_version": "~2.1.4",
       "layout": "IPY_MODEL_9c16d91e5d5c45da9e38b315a0407b02",
       "max": 12,
       "style": "IPY_MODEL_b72f47bf7ad44fbf998695bd77b4375c",
       "value": 8
      }
     },
     "1c70cf0c36d1435f9cb17d716a370af4": {
      "model_module": "jupyter-js-widgets",
      "model_module_version": "~2.1.4",
      "model_name": "LayoutModel",
      "state": {
       "_model_module_version": "~2.1.4",
       "_view_module_version": "~2.1.4"
      }
     },
     "1d8a44a735954d5b8a8329cf351252f3": {
      "model_module": "jupyter-js-widgets",
      "model_module_version": "~2.1.4",
      "model_name": "VBoxModel",
      "state": {
       "_model_module_version": "~2.1.4",
       "_view_module_version": "~2.1.4",
       "children": [
        "IPY_MODEL_787d404d13944833a2fb6408304a9c4f",
        "IPY_MODEL_4192056f70694a68940b1ed1a05a3ab5"
       ],
       "layout": "IPY_MODEL_296ffa43c13d4621bc4b897bbfd09c56"
      }
     },
     "1f0cd171d49747f2ac80d95be8f9b815": {
      "model_module": "jupyter-js-widgets",
      "model_module_version": "~2.1.4",
      "model_name": "ButtonModel",
      "state": {
       "_model_module_version": "~2.1.4",
       "_view_module_version": "~2.1.4",
       "icon": "step-forward",
       "layout": "IPY_MODEL_a81247a16f0642029836569f6ce43249",
       "style": "IPY_MODEL_85fd689b87d346b9be151ae17806d0e4"
      }
     },
     "2556e8939f9c4acc9648cd865f811ccb": {
      "model_module": "jupyter-js-widgets",
      "model_module_version": "~2.1.4",
      "model_name": "LayoutModel",
      "state": {
       "_model_module_version": "~2.1.4",
       "_view_module_version": "~2.1.4",
       "height": "770px"
      }
     },
     "296ffa43c13d4621bc4b897bbfd09c56": {
      "model_module": "jupyter-js-widgets",
      "model_module_version": "~2.1.4",
      "model_name": "LayoutModel",
      "state": {
       "_model_module_version": "~2.1.4",
       "_view_module_version": "~2.1.4"
      }
     },
     "3090d2b6c4da4500881ce7ffaee6e513": {
      "model_module": "jupyter-js-widgets",
      "model_module_version": "~2.1.4",
      "model_name": "LabelModel",
      "state": {
       "_model_module_version": "~2.1.4",
       "_view_module_version": "~2.1.4",
       "layout": "IPY_MODEL_f138e166ff08466aad16e2ca4ca43003",
       "value": "Orden"
      }
     },
     "3f7bcaa6b98b4b6e9b476f2f7585b7e7": {
      "model_module": "jupyter-js-widgets",
      "model_module_version": "~2.1.4",
      "model_name": "LabelModel",
      "state": {
       "_model_module_version": "~2.1.4",
       "_view_module_version": "~2.1.4",
       "layout": "IPY_MODEL_85251956f2e448c88d84988e7e80442c",
       "value": "Orden"
      }
     },
     "401a3ee4ba7340949b393d6905ccf550": {
      "model_module": "jupyter-js-widgets",
      "model_module_version": "~2.1.4",
      "model_name": "SliderStyleModel",
      "state": {
       "_model_module_version": "~2.1.4",
       "_view_module_version": "~2.1.4"
      }
     },
     "4192056f70694a68940b1ed1a05a3ab5": {
      "model_module": "jupyter-js-widgets",
      "model_module_version": "~2.1.4",
      "model_name": "OutputModel",
      "state": {
       "_dom_classes": [],
       "_model_module": "jupyter-js-widgets",
       "_model_module_version": "~2.1.4",
       "_view_module": "jupyter-js-widgets",
       "_view_module_version": "~2.1.4",
       "layout": "IPY_MODEL_2556e8939f9c4acc9648cd865f811ccb",
       "msg_throttle": 1
      }
     },
     "49adb59a0f8c46b29fc09d8d8e85f405": {
      "model_module": "jupyter-js-widgets",
      "model_module_version": "~2.1.4",
      "model_name": "ButtonStyleModel",
      "state": {
       "_model_module_version": "~2.1.4",
       "_view_module_version": "~2.1.4"
      }
     },
     "4e4f6b4dd09342c2847476cbfa1f886a": {
      "model_module": "jupyter-js-widgets",
      "model_module_version": "~2.1.4",
      "model_name": "LayoutModel",
      "state": {
       "_model_module_version": "~2.1.4",
       "_view_module_version": "~2.1.4",
       "width": "45.3333px"
      }
     },
     "5b782c5e20434eef947cc2c1410b8c5d": {
      "model_module": "jupyter-js-widgets",
      "model_module_version": "~2.1.4",
      "model_name": "LayoutModel",
      "state": {
       "_model_module_version": "~2.1.4",
       "_view_module_version": "~2.1.4",
       "width": "45.3333px"
      }
     },
     "6080cb356b954b51b30f9331696441cb": {
      "model_module": "jupyter-js-widgets",
      "model_module_version": "~2.1.4",
      "model_name": "ButtonStyleModel",
      "state": {
       "_model_module_version": "~2.1.4",
       "_view_module_version": "~2.1.4"
      }
     },
     "618927426ee04d17a8fa511c9d823e60": {
      "model_module": "jupyter-js-widgets",
      "model_module_version": "~2.1.4",
      "model_name": "ButtonModel",
      "state": {
       "_model_module_version": "~2.1.4",
       "_view_module_version": "~2.1.4",
       "icon": "step-backward",
       "layout": "IPY_MODEL_72c2544786494578912d148b8b1a8bf8",
       "style": "IPY_MODEL_ed8a9b7e03894c33af7ab9b53354f638"
      }
     },
     "62844d44eda447e39c681b804292498a": {
      "model_module": "jupyter-js-widgets",
      "model_module_version": "~2.1.4",
      "model_name": "VBoxModel",
      "state": {
       "_model_module_version": "~2.1.4",
       "_view_module_version": "~2.1.4",
       "children": [
        "IPY_MODEL_e23a18110701416a9b03d82a87c9da9e",
        "IPY_MODEL_9b00306abca34e22abc3d445e03cc8f9"
       ],
       "layout": "IPY_MODEL_ae021da358b14278bbdafd1624b5b2e7"
      }
     },
     "72c2544786494578912d148b8b1a8bf8": {
      "model_module": "jupyter-js-widgets",
      "model_module_version": "~2.1.4",
      "model_name": "LayoutModel",
      "state": {
       "_model_module_version": "~2.1.4",
       "_view_module_version": "~2.1.4",
       "width": "45.3333px"
      }
     },
     "787d404d13944833a2fb6408304a9c4f": {
      "model_module": "jupyter-js-widgets",
      "model_module_version": "~2.1.4",
      "model_name": "HBoxModel",
      "state": {
       "_model_module_version": "~2.1.4",
       "_view_module_version": "~2.1.4",
       "children": [
        "IPY_MODEL_3f7bcaa6b98b4b6e9b476f2f7585b7e7",
        "IPY_MODEL_18b4bb72c2da43a3808fadffeb32e847",
        "IPY_MODEL_618927426ee04d17a8fa511c9d823e60",
        "IPY_MODEL_96cb4a8c26d444209e2975337ec3731d"
       ],
       "layout": "IPY_MODEL_0a8994a81db145acb8e27ecd7146ab6d"
      }
     },
     "7dfcce1ec1b84692bf64573d9b043729": {
      "model_module": "jupyter-js-widgets",
      "model_module_version": "~2.1.4",
      "model_name": "OutputModel",
      "state": {
       "_dom_classes": [],
       "_model_module": "jupyter-js-widgets",
       "_model_module_version": "~2.1.4",
       "_view_module": "jupyter-js-widgets",
       "_view_module_version": "~2.1.4",
       "layout": "IPY_MODEL_12689c590dd941d8a82c2ed83ff1468d",
       "msg_throttle": 1
      }
     },
     "848bf71792e744e6a9572c6a0ea05b5f": {
      "model_module": "jupyter-js-widgets",
      "model_module_version": "~2.1.4",
      "model_name": "LayoutModel",
      "state": {
       "_model_module_version": "~2.1.4",
       "_view_module_version": "~2.1.4",
       "width": "45.3333px"
      }
     },
     "85251956f2e448c88d84988e7e80442c": {
      "model_module": "jupyter-js-widgets",
      "model_module_version": "~2.1.4",
      "model_name": "LayoutModel",
      "state": {
       "_model_module_version": "~2.1.4",
       "_view_module_version": "~2.1.4",
       "width": "100px"
      }
     },
     "85fd689b87d346b9be151ae17806d0e4": {
      "model_module": "jupyter-js-widgets",
      "model_module_version": "~2.1.4",
      "model_name": "ButtonStyleModel",
      "state": {
       "_model_module_version": "~2.1.4",
       "_view_module_version": "~2.1.4"
      }
     },
     "96cb4a8c26d444209e2975337ec3731d": {
      "model_module": "jupyter-js-widgets",
      "model_module_version": "~2.1.4",
      "model_name": "ButtonModel",
      "state": {
       "_model_module_version": "~2.1.4",
       "_view_module_version": "~2.1.4",
       "icon": "step-forward",
       "layout": "IPY_MODEL_4e4f6b4dd09342c2847476cbfa1f886a",
       "style": "IPY_MODEL_6080cb356b954b51b30f9331696441cb"
      }
     },
     "9b00306abca34e22abc3d445e03cc8f9": {
      "model_module": "jupyter-js-widgets",
      "model_module_version": "~2.1.4",
      "model_name": "OutputModel",
      "state": {
       "_dom_classes": [],
       "_model_module": "jupyter-js-widgets",
       "_model_module_version": "~2.1.4",
       "_view_module": "jupyter-js-widgets",
       "_view_module_version": "~2.1.4",
       "layout": "IPY_MODEL_0e70cd23ca954b5f995451471473cbae",
       "msg_throttle": 1
      }
     },
     "9c16d91e5d5c45da9e38b315a0407b02": {
      "model_module": "jupyter-js-widgets",
      "model_module_version": "~2.1.4",
      "model_name": "LayoutModel",
      "state": {
       "_model_module_version": "~2.1.4",
       "_view_module_version": "~2.1.4"
      }
     },
     "9d6ee3dcf4204fc0993f392cdd1aa555": {
      "model_module": "jupyter-js-widgets",
      "model_module_version": "~2.1.4",
      "model_name": "VBoxModel",
      "state": {
       "_model_module_version": "~2.1.4",
       "_view_module_version": "~2.1.4",
       "children": [
        "IPY_MODEL_ff8fc7f3224a4ef984449e99277c0c24",
        "IPY_MODEL_7dfcce1ec1b84692bf64573d9b043729"
       ],
       "layout": "IPY_MODEL_a4e5fc09f76f405ea824ffc6244edc3c"
      }
     },
     "a4e5fc09f76f405ea824ffc6244edc3c": {
      "model_module": "jupyter-js-widgets",
      "model_module_version": "~2.1.4",
      "model_name": "LayoutModel",
      "state": {
       "_model_module_version": "~2.1.4",
       "_view_module_version": "~2.1.4"
      }
     },
     "a81247a16f0642029836569f6ce43249": {
      "model_module": "jupyter-js-widgets",
      "model_module_version": "~2.1.4",
      "model_name": "LayoutModel",
      "state": {
       "_model_module_version": "~2.1.4",
       "_view_module_version": "~2.1.4",
       "width": "45.3333px"
      }
     },
     "ae021da358b14278bbdafd1624b5b2e7": {
      "model_module": "jupyter-js-widgets",
      "model_module_version": "~2.1.4",
      "model_name": "LayoutModel",
      "state": {
       "_model_module_version": "~2.1.4",
       "_view_module_version": "~2.1.4"
      }
     },
     "aeda652b218140baa6e1ad319866af84": {
      "model_module": "jupyter-js-widgets",
      "model_module_version": "~2.1.4",
      "model_name": "LayoutModel",
      "state": {
       "_model_module_version": "~2.1.4",
       "_view_module_version": "~2.1.4"
      }
     },
     "b4f044a6cad54b2d8695f8bccea58853": {
      "model_module": "jupyter-js-widgets",
      "model_module_version": "~2.1.4",
      "model_name": "LayoutModel",
      "state": {
       "_model_module_version": "~2.1.4",
       "_view_module_version": "~2.1.4"
      }
     },
     "b72f47bf7ad44fbf998695bd77b4375c": {
      "model_module": "jupyter-js-widgets",
      "model_module_version": "~2.1.4",
      "model_name": "SliderStyleModel",
      "state": {
       "_model_module_version": "~2.1.4",
       "_view_module_version": "~2.1.4"
      }
     },
     "bc0e20fb9f964a6283be76729f95dbe3": {
      "model_module": "jupyter-js-widgets",
      "model_module_version": "~2.1.4",
      "model_name": "ButtonStyleModel",
      "state": {
       "_model_module_version": "~2.1.4",
       "_view_module_version": "~2.1.4"
      }
     },
     "df0cf38ba51246c289ba96d3534b075d": {
      "model_module": "jupyter-js-widgets",
      "model_module_version": "~2.1.4",
      "model_name": "SliderStyleModel",
      "state": {
       "_model_module_version": "~2.1.4",
       "_view_module_version": "~2.1.4"
      }
     },
     "df7ac3e5b7b84ee297877b0b8585f16c": {
      "model_module": "jupyter-js-widgets",
      "model_module_version": "~2.1.4",
      "model_name": "IntSliderModel",
      "state": {
       "_model_module_version": "~2.1.4",
       "_view_module_version": "~2.1.4",
       "layout": "IPY_MODEL_b4f044a6cad54b2d8695f8bccea58853",
       "max": 12,
       "style": "IPY_MODEL_df0cf38ba51246c289ba96d3534b075d",
       "value": 4
      }
     },
     "e23a18110701416a9b03d82a87c9da9e": {
      "model_module": "jupyter-js-widgets",
      "model_module_version": "~2.1.4",
      "model_name": "HBoxModel",
      "state": {
       "_model_module_version": "~2.1.4",
       "_view_module_version": "~2.1.4",
       "children": [
        "IPY_MODEL_f898d39e31c84ac1bdef2583cb55341d",
        "IPY_MODEL_df7ac3e5b7b84ee297877b0b8585f16c",
        "IPY_MODEL_ff4d18b41dbd49ec8377c8c460135601",
        "IPY_MODEL_038b60e88331451cbb6ebbf6d1ae095d"
       ],
       "layout": "IPY_MODEL_10a4055884a140978a8ae4a0c0f6960e"
      }
     },
     "e263dfc435884455a6aa715494d1ff97": {
      "model_module": "jupyter-js-widgets",
      "model_module_version": "~2.1.4",
      "model_name": "LayoutModel",
      "state": {
       "_model_module_version": "~2.1.4",
       "_view_module_version": "~2.1.4",
       "width": "45.3333px"
      }
     },
     "ed8a9b7e03894c33af7ab9b53354f638": {
      "model_module": "jupyter-js-widgets",
      "model_module_version": "~2.1.4",
      "model_name": "ButtonStyleModel",
      "state": {
       "_model_module_version": "~2.1.4",
       "_view_module_version": "~2.1.4"
      }
     },
     "f138e166ff08466aad16e2ca4ca43003": {
      "model_module": "jupyter-js-widgets",
      "model_module_version": "~2.1.4",
      "model_name": "LayoutModel",
      "state": {
       "_model_module_version": "~2.1.4",
       "_view_module_version": "~2.1.4",
       "width": "100px"
      }
     },
     "f78da1d10f1a48a19b80f81214aa1b22": {
      "model_module": "jupyter-js-widgets",
      "model_module_version": "~2.1.4",
      "model_name": "LayoutModel",
      "state": {
       "_model_module_version": "~2.1.4",
       "_view_module_version": "~2.1.4",
       "width": "100px"
      }
     },
     "f898d39e31c84ac1bdef2583cb55341d": {
      "model_module": "jupyter-js-widgets",
      "model_module_version": "~2.1.4",
      "model_name": "LabelModel",
      "state": {
       "_model_module_version": "~2.1.4",
       "_view_module_version": "~2.1.4",
       "layout": "IPY_MODEL_f78da1d10f1a48a19b80f81214aa1b22",
       "value": "Orden"
      }
     },
     "ff4d18b41dbd49ec8377c8c460135601": {
      "model_module": "jupyter-js-widgets",
      "model_module_version": "~2.1.4",
      "model_name": "ButtonModel",
      "state": {
       "_model_module_version": "~2.1.4",
       "_view_module_version": "~2.1.4",
       "icon": "step-backward",
       "layout": "IPY_MODEL_e263dfc435884455a6aa715494d1ff97",
       "style": "IPY_MODEL_bc0e20fb9f964a6283be76729f95dbe3"
      }
     },
     "ff8fc7f3224a4ef984449e99277c0c24": {
      "model_module": "jupyter-js-widgets",
      "model_module_version": "~2.1.4",
      "model_name": "HBoxModel",
      "state": {
       "_model_module_version": "~2.1.4",
       "_view_module_version": "~2.1.4",
       "children": [
        "IPY_MODEL_3090d2b6c4da4500881ce7ffaee6e513",
        "IPY_MODEL_10d7b2886236440eb1be7e2130a0b555",
        "IPY_MODEL_07e30d681c044f9a8e0bebbbd3be1683",
        "IPY_MODEL_1f0cd171d49747f2ac80d95be8f9b815"
       ],
       "layout": "IPY_MODEL_aeda652b218140baa6e1ad319866af84"
      }
     }
    },
    "version_major": 1,
    "version_minor": 0
   }
  }
 },
 "nbformat": 4,
 "nbformat_minor": 4
}
