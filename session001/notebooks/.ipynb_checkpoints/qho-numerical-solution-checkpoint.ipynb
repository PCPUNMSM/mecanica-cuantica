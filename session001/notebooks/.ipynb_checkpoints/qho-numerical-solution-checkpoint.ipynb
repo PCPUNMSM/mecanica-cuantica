{
 "cells": [
  {
   "cell_type": "markdown",
   "metadata": {},
   "source": [
    "<h1 style=\"text-align:center\">El Oscilador Armónico en Mecánica Cuántica<br/><small>Solución Numérica</small><br/></h1>"
   ]
  },
  {
   "cell_type": "markdown",
   "metadata": {},
   "source": [
    "<div style=\"text-align:center\">\n",
    "<strong>Martín Josemaría Vuelta Rojas</strong><br/>\n",
    "<code><a href=\"https://github.com/zodiacfireworks\" target=\"_blank\">@zodiacfireworks</a></code><br/><br/>\n",
    "\n",
    "<em>Universidad Nacional Mayor de San Marcos</em><br/>\n",
    "Facultad de Ciencias Físicas<br/>\n",
    "<code>(martin.vuelta@unmsm.edu.pe)</code><br/><br/>\n",
    "\n",
    "<em>SoftButterfly</em><br/>\n",
    "CTO<br/>\n",
    "<code>(martin.vuelta@softbutterfly.io)</code><br/><br/>\n",
    "\n",
    "<i>Hack Space</i><br/>\n",
    "Lead Trainer y Lead Software Developer<br/>\n",
    "<code>(martin.vuelta@hackspace.pe)</code>\n",
    "</div>"
   ]
  },
  {
   "cell_type": "code",
   "execution_count": null,
   "metadata": {},
   "outputs": [],
   "source": []
  },
  {
   "cell_type": "code",
   "execution_count": null,
   "metadata": {},
   "outputs": [],
   "source": []
  },
  {
   "cell_type": "code",
   "execution_count": null,
   "metadata": {},
   "outputs": [],
   "source": []
  },
  {
   "cell_type": "code",
   "execution_count": null,
   "metadata": {},
   "outputs": [],
   "source": []
  },
  {
   "cell_type": "code",
   "execution_count": null,
   "metadata": {},
   "outputs": [],
   "source": []
  },
  {
   "cell_type": "code",
   "execution_count": null,
   "metadata": {},
   "outputs": [],
   "source": []
  }
 ],
 "metadata": {
  "kernelspec": {
   "display_name": "Python 3",
   "language": "python",
   "name": "python3"
  },
  "language_info": {
   "codemirror_mode": {
    "name": "ipython",
    "version": 3
   },
   "file_extension": ".py",
   "mimetype": "text/x-python",
   "name": "python",
   "nbconvert_exporter": "python",
   "pygments_lexer": "ipython3",
   "version": "3.7.1"
  }
 },
 "nbformat": 4,
 "nbformat_minor": 4
}
