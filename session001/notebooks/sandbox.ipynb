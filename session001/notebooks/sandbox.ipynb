{
 "cells": [
  {
   "cell_type": "markdown",
   "metadata": {},
   "source": [
    "# Sandbox"
   ]
  },
  {
   "cell_type": "markdown",
   "metadata": {},
   "source": [
    "En este espacio podrás hacer las pruebas y los ejercicos que se indican en las sesiones."
   ]
  },
  {
   "cell_type": "code",
   "execution_count": 1,
   "metadata": {},
   "outputs": [],
   "source": [
    "class Memoize:\n",
    "    def __init__(self, f):\n",
    "        self.f = f\n",
    "        self.memo = {}\n",
    "    \n",
    "    def __call__(self, *args):\n",
    "        if args not in self.memo.keys():\n",
    "            self.memo[args] = self.f(*args)\n",
    "        \n",
    "        return self.memo[args]"
   ]
  },
  {
   "cell_type": "code",
   "execution_count": 2,
   "metadata": {},
   "outputs": [],
   "source": [
    "@Memoize\n",
    "def factorial(n):\n",
    "    if n == 0:\n",
    "        return 1\n",
    "    return n * factorial(n-1)"
   ]
  },
  {
   "cell_type": "code",
   "execution_count": 3,
   "metadata": {},
   "outputs": [
    {
     "name": "stdout",
     "output_type": "stream",
     "text": [
      "311 ns ± 8.46 ns per loop (mean ± std. dev. of 7 runs, 1000000 loops each)\n"
     ]
    }
   ],
   "source": [
    "%timeit factorial(600)"
   ]
  },
  {
   "cell_type": "code",
   "execution_count": 4,
   "metadata": {},
   "outputs": [
    {
     "name": "stdout",
     "output_type": "stream",
     "text": [
      "322 ns ± 3.39 ns per loop (mean ± std. dev. of 7 runs, 1000000 loops each)\n"
     ]
    }
   ],
   "source": [
    "%timeit factorial(600)"
   ]
  },
  {
   "cell_type": "code",
   "execution_count": null,
   "metadata": {},
   "outputs": [],
   "source": []
  }
 ],
 "metadata": {
  "anaconda-cloud": {},
  "kernelspec": {
   "display_name": "Python 3",
   "language": "python",
   "name": "python3"
  },
  "language_info": {
   "codemirror_mode": {
    "name": "ipython",
    "version": 3
   },
   "file_extension": ".py",
   "mimetype": "text/x-python",
   "name": "python",
   "nbconvert_exporter": "python",
   "pygments_lexer": "ipython3",
   "version": "3.7.1"
  },
  "widgets": {
   "application/vnd.jupyter.widget-state+json": {
    "state": {
     "038b60e88331451cbb6ebbf6d1ae095d": {
      "model_module": "jupyter-js-widgets",
      "model_module_version": "~2.1.4",
      "model_name": "ButtonModel",
      "state": {
       "_model_module_version": "~2.1.4",
       "_view_module_version": "~2.1.4",
       "icon": "step-forward",
       "layout": "IPY_MODEL_5b782c5e20434eef947cc2c1410b8c5d",
       "style": "IPY_MODEL_17f31c960bb24fd98f15ac924b11d4f2"
      }
     },
     "07e30d681c044f9a8e0bebbbd3be1683": {
      "model_module": "jupyter-js-widgets",
      "model_module_version": "~2.1.4",
      "model_name": "ButtonModel",
      "state": {
       "_model_module_version": "~2.1.4",
       "_view_module_version": "~2.1.4",
       "icon": "step-backward",
       "layout": "IPY_MODEL_848bf71792e744e6a9572c6a0ea05b5f",
       "style": "IPY_MODEL_49adb59a0f8c46b29fc09d8d8e85f405"
      }
     },
     "0a8994a81db145acb8e27ecd7146ab6d": {
      "model_module": "jupyter-js-widgets",
      "model_module_version": "~2.1.4",
      "model_name": "LayoutModel",
      "state": {
       "_model_module_version": "~2.1.4",
       "_view_module_version": "~2.1.4"
      }
     },
     "0e70cd23ca954b5f995451471473cbae": {
      "model_module": "jupyter-js-widgets",
      "model_module_version": "~2.1.4",
      "model_name": "LayoutModel",
      "state": {
       "_model_module_version": "~2.1.4",
       "_view_module_version": "~2.1.4",
       "height": "770px"
      }
     },
     "10a4055884a140978a8ae4a0c0f6960e": {
      "model_module": "jupyter-js-widgets",
      "model_module_version": "~2.1.4",
      "model_name": "LayoutModel",
      "state": {
       "_model_module_version": "~2.1.4",
       "_view_module_version": "~2.1.4"
      }
     },
     "10d7b2886236440eb1be7e2130a0b555": {
      "model_module": "jupyter-js-widgets",
      "model_module_version": "~2.1.4",
      "model_name": "IntSliderModel",
      "state": {
       "_model_module_version": "~2.1.4",
       "_view_module_version": "~2.1.4",
       "layout": "IPY_MODEL_1c70cf0c36d1435f9cb17d716a370af4",
       "max": 12,
       "style": "IPY_MODEL_401a3ee4ba7340949b393d6905ccf550"
      }
     },
     "12689c590dd941d8a82c2ed83ff1468d": {
      "model_module": "jupyter-js-widgets",
      "model_module_version": "~2.1.4",
      "model_name": "LayoutModel",
      "state": {
       "_model_module_version": "~2.1.4",
       "_view_module_version": "~2.1.4",
       "height": "770px"
      }
     },
     "17f31c960bb24fd98f15ac924b11d4f2": {
      "model_module": "jupyter-js-widgets",
      "model_module_version": "~2.1.4",
      "model_name": "ButtonStyleModel",
      "state": {
       "_model_module_version": "~2.1.4",
       "_view_module_version": "~2.1.4"
      }
     },
     "18b4bb72c2da43a3808fadffeb32e847": {
      "model_module": "jupyter-js-widgets",
      "model_module_version": "~2.1.4",
      "model_name": "IntSliderModel",
      "state": {
       "_model_module_version": "~2.1.4",
       "_view_module_version": "~2.1.4",
       "layout": "IPY_MODEL_9c16d91e5d5c45da9e38b315a0407b02",
       "max": 12,
       "style": "IPY_MODEL_b72f47bf7ad44fbf998695bd77b4375c",
       "value": 8
      }
     },
     "1c70cf0c36d1435f9cb17d716a370af4": {
      "model_module": "jupyter-js-widgets",
      "model_module_version": "~2.1.4",
      "model_name": "LayoutModel",
      "state": {
       "_model_module_version": "~2.1.4",
       "_view_module_version": "~2.1.4"
      }
     },
     "1d8a44a735954d5b8a8329cf351252f3": {
      "model_module": "jupyter-js-widgets",
      "model_module_version": "~2.1.4",
      "model_name": "VBoxModel",
      "state": {
       "_model_module_version": "~2.1.4",
       "_view_module_version": "~2.1.4",
       "children": [
        "IPY_MODEL_787d404d13944833a2fb6408304a9c4f",
        "IPY_MODEL_4192056f70694a68940b1ed1a05a3ab5"
       ],
       "layout": "IPY_MODEL_296ffa43c13d4621bc4b897bbfd09c56"
      }
     },
     "1f0cd171d49747f2ac80d95be8f9b815": {
      "model_module": "jupyter-js-widgets",
      "model_module_version": "~2.1.4",
      "model_name": "ButtonModel",
      "state": {
       "_model_module_version": "~2.1.4",
       "_view_module_version": "~2.1.4",
       "icon": "step-forward",
       "layout": "IPY_MODEL_a81247a16f0642029836569f6ce43249",
       "style": "IPY_MODEL_85fd689b87d346b9be151ae17806d0e4"
      }
     },
     "2556e8939f9c4acc9648cd865f811ccb": {
      "model_module": "jupyter-js-widgets",
      "model_module_version": "~2.1.4",
      "model_name": "LayoutModel",
      "state": {
       "_model_module_version": "~2.1.4",
       "_view_module_version": "~2.1.4",
       "height": "770px"
      }
     },
     "296ffa43c13d4621bc4b897bbfd09c56": {
      "model_module": "jupyter-js-widgets",
      "model_module_version": "~2.1.4",
      "model_name": "LayoutModel",
      "state": {
       "_model_module_version": "~2.1.4",
       "_view_module_version": "~2.1.4"
      }
     },
     "3090d2b6c4da4500881ce7ffaee6e513": {
      "model_module": "jupyter-js-widgets",
      "model_module_version": "~2.1.4",
      "model_name": "LabelModel",
      "state": {
       "_model_module_version": "~2.1.4",
       "_view_module_version": "~2.1.4",
       "layout": "IPY_MODEL_f138e166ff08466aad16e2ca4ca43003",
       "value": "Orden"
      }
     },
     "3f7bcaa6b98b4b6e9b476f2f7585b7e7": {
      "model_module": "jupyter-js-widgets",
      "model_module_version": "~2.1.4",
      "model_name": "LabelModel",
      "state": {
       "_model_module_version": "~2.1.4",
       "_view_module_version": "~2.1.4",
       "layout": "IPY_MODEL_85251956f2e448c88d84988e7e80442c",
       "value": "Orden"
      }
     },
     "401a3ee4ba7340949b393d6905ccf550": {
      "model_module": "jupyter-js-widgets",
      "model_module_version": "~2.1.4",
      "model_name": "SliderStyleModel",
      "state": {
       "_model_module_version": "~2.1.4",
       "_view_module_version": "~2.1.4"
      }
     },
     "4192056f70694a68940b1ed1a05a3ab5": {
      "model_module": "jupyter-js-widgets",
      "model_module_version": "~2.1.4",
      "model_name": "OutputModel",
      "state": {
       "_dom_classes": [],
       "_model_module": "jupyter-js-widgets",
       "_model_module_version": "~2.1.4",
       "_view_module": "jupyter-js-widgets",
       "_view_module_version": "~2.1.4",
       "layout": "IPY_MODEL_2556e8939f9c4acc9648cd865f811ccb",
       "msg_throttle": 1
      }
     },
     "49adb59a0f8c46b29fc09d8d8e85f405": {
      "model_module": "jupyter-js-widgets",
      "model_module_version": "~2.1.4",
      "model_name": "ButtonStyleModel",
      "state": {
       "_model_module_version": "~2.1.4",
       "_view_module_version": "~2.1.4"
      }
     },
     "4e4f6b4dd09342c2847476cbfa1f886a": {
      "model_module": "jupyter-js-widgets",
      "model_module_version": "~2.1.4",
      "model_name": "LayoutModel",
      "state": {
       "_model_module_version": "~2.1.4",
       "_view_module_version": "~2.1.4",
       "width": "45.3333px"
      }
     },
     "5b782c5e20434eef947cc2c1410b8c5d": {
      "model_module": "jupyter-js-widgets",
      "model_module_version": "~2.1.4",
      "model_name": "LayoutModel",
      "state": {
       "_model_module_version": "~2.1.4",
       "_view_module_version": "~2.1.4",
       "width": "45.3333px"
      }
     },
     "6080cb356b954b51b30f9331696441cb": {
      "model_module": "jupyter-js-widgets",
      "model_module_version": "~2.1.4",
      "model_name": "ButtonStyleModel",
      "state": {
       "_model_module_version": "~2.1.4",
       "_view_module_version": "~2.1.4"
      }
     },
     "618927426ee04d17a8fa511c9d823e60": {
      "model_module": "jupyter-js-widgets",
      "model_module_version": "~2.1.4",
      "model_name": "ButtonModel",
      "state": {
       "_model_module_version": "~2.1.4",
       "_view_module_version": "~2.1.4",
       "icon": "step-backward",
       "layout": "IPY_MODEL_72c2544786494578912d148b8b1a8bf8",
       "style": "IPY_MODEL_ed8a9b7e03894c33af7ab9b53354f638"
      }
     },
     "62844d44eda447e39c681b804292498a": {
      "model_module": "jupyter-js-widgets",
      "model_module_version": "~2.1.4",
      "model_name": "VBoxModel",
      "state": {
       "_model_module_version": "~2.1.4",
       "_view_module_version": "~2.1.4",
       "children": [
        "IPY_MODEL_e23a18110701416a9b03d82a87c9da9e",
        "IPY_MODEL_9b00306abca34e22abc3d445e03cc8f9"
       ],
       "layout": "IPY_MODEL_ae021da358b14278bbdafd1624b5b2e7"
      }
     },
     "72c2544786494578912d148b8b1a8bf8": {
      "model_module": "jupyter-js-widgets",
      "model_module_version": "~2.1.4",
      "model_name": "LayoutModel",
      "state": {
       "_model_module_version": "~2.1.4",
       "_view_module_version": "~2.1.4",
       "width": "45.3333px"
      }
     },
     "787d404d13944833a2fb6408304a9c4f": {
      "model_module": "jupyter-js-widgets",
      "model_module_version": "~2.1.4",
      "model_name": "HBoxModel",
      "state": {
       "_model_module_version": "~2.1.4",
       "_view_module_version": "~2.1.4",
       "children": [
        "IPY_MODEL_3f7bcaa6b98b4b6e9b476f2f7585b7e7",
        "IPY_MODEL_18b4bb72c2da43a3808fadffeb32e847",
        "IPY_MODEL_618927426ee04d17a8fa511c9d823e60",
        "IPY_MODEL_96cb4a8c26d444209e2975337ec3731d"
       ],
       "layout": "IPY_MODEL_0a8994a81db145acb8e27ecd7146ab6d"
      }
     },
     "7dfcce1ec1b84692bf64573d9b043729": {
      "model_module": "jupyter-js-widgets",
      "model_module_version": "~2.1.4",
      "model_name": "OutputModel",
      "state": {
       "_dom_classes": [],
       "_model_module": "jupyter-js-widgets",
       "_model_module_version": "~2.1.4",
       "_view_module": "jupyter-js-widgets",
       "_view_module_version": "~2.1.4",
       "layout": "IPY_MODEL_12689c590dd941d8a82c2ed83ff1468d",
       "msg_throttle": 1
      }
     },
     "848bf71792e744e6a9572c6a0ea05b5f": {
      "model_module": "jupyter-js-widgets",
      "model_module_version": "~2.1.4",
      "model_name": "LayoutModel",
      "state": {
       "_model_module_version": "~2.1.4",
       "_view_module_version": "~2.1.4",
       "width": "45.3333px"
      }
     },
     "85251956f2e448c88d84988e7e80442c": {
      "model_module": "jupyter-js-widgets",
      "model_module_version": "~2.1.4",
      "model_name": "LayoutModel",
      "state": {
       "_model_module_version": "~2.1.4",
       "_view_module_version": "~2.1.4",
       "width": "100px"
      }
     },
     "85fd689b87d346b9be151ae17806d0e4": {
      "model_module": "jupyter-js-widgets",
      "model_module_version": "~2.1.4",
      "model_name": "ButtonStyleModel",
      "state": {
       "_model_module_version": "~2.1.4",
       "_view_module_version": "~2.1.4"
      }
     },
     "96cb4a8c26d444209e2975337ec3731d": {
      "model_module": "jupyter-js-widgets",
      "model_module_version": "~2.1.4",
      "model_name": "ButtonModel",
      "state": {
       "_model_module_version": "~2.1.4",
       "_view_module_version": "~2.1.4",
       "icon": "step-forward",
       "layout": "IPY_MODEL_4e4f6b4dd09342c2847476cbfa1f886a",
       "style": "IPY_MODEL_6080cb356b954b51b30f9331696441cb"
      }
     },
     "9b00306abca34e22abc3d445e03cc8f9": {
      "model_module": "jupyter-js-widgets",
      "model_module_version": "~2.1.4",
      "model_name": "OutputModel",
      "state": {
       "_dom_classes": [],
       "_model_module": "jupyter-js-widgets",
       "_model_module_version": "~2.1.4",
       "_view_module": "jupyter-js-widgets",
       "_view_module_version": "~2.1.4",
       "layout": "IPY_MODEL_0e70cd23ca954b5f995451471473cbae",
       "msg_throttle": 1
      }
     },
     "9c16d91e5d5c45da9e38b315a0407b02": {
      "model_module": "jupyter-js-widgets",
      "model_module_version": "~2.1.4",
      "model_name": "LayoutModel",
      "state": {
       "_model_module_version": "~2.1.4",
       "_view_module_version": "~2.1.4"
      }
     },
     "9d6ee3dcf4204fc0993f392cdd1aa555": {
      "model_module": "jupyter-js-widgets",
      "model_module_version": "~2.1.4",
      "model_name": "VBoxModel",
      "state": {
       "_model_module_version": "~2.1.4",
       "_view_module_version": "~2.1.4",
       "children": [
        "IPY_MODEL_ff8fc7f3224a4ef984449e99277c0c24",
        "IPY_MODEL_7dfcce1ec1b84692bf64573d9b043729"
       ],
       "layout": "IPY_MODEL_a4e5fc09f76f405ea824ffc6244edc3c"
      }
     },
     "a4e5fc09f76f405ea824ffc6244edc3c": {
      "model_module": "jupyter-js-widgets",
      "model_module_version": "~2.1.4",
      "model_name": "LayoutModel",
      "state": {
       "_model_module_version": "~2.1.4",
       "_view_module_version": "~2.1.4"
      }
     },
     "a81247a16f0642029836569f6ce43249": {
      "model_module": "jupyter-js-widgets",
      "model_module_version": "~2.1.4",
      "model_name": "LayoutModel",
      "state": {
       "_model_module_version": "~2.1.4",
       "_view_module_version": "~2.1.4",
       "width": "45.3333px"
      }
     },
     "ae021da358b14278bbdafd1624b5b2e7": {
      "model_module": "jupyter-js-widgets",
      "model_module_version": "~2.1.4",
      "model_name": "LayoutModel",
      "state": {
       "_model_module_version": "~2.1.4",
       "_view_module_version": "~2.1.4"
      }
     },
     "aeda652b218140baa6e1ad319866af84": {
      "model_module": "jupyter-js-widgets",
      "model_module_version": "~2.1.4",
      "model_name": "LayoutModel",
      "state": {
       "_model_module_version": "~2.1.4",
       "_view_module_version": "~2.1.4"
      }
     },
     "b4f044a6cad54b2d8695f8bccea58853": {
      "model_module": "jupyter-js-widgets",
      "model_module_version": "~2.1.4",
      "model_name": "LayoutModel",
      "state": {
       "_model_module_version": "~2.1.4",
       "_view_module_version": "~2.1.4"
      }
     },
     "b72f47bf7ad44fbf998695bd77b4375c": {
      "model_module": "jupyter-js-widgets",
      "model_module_version": "~2.1.4",
      "model_name": "SliderStyleModel",
      "state": {
       "_model_module_version": "~2.1.4",
       "_view_module_version": "~2.1.4"
      }
     },
     "bc0e20fb9f964a6283be76729f95dbe3": {
      "model_module": "jupyter-js-widgets",
      "model_module_version": "~2.1.4",
      "model_name": "ButtonStyleModel",
      "state": {
       "_model_module_version": "~2.1.4",
       "_view_module_version": "~2.1.4"
      }
     },
     "df0cf38ba51246c289ba96d3534b075d": {
      "model_module": "jupyter-js-widgets",
      "model_module_version": "~2.1.4",
      "model_name": "SliderStyleModel",
      "state": {
       "_model_module_version": "~2.1.4",
       "_view_module_version": "~2.1.4"
      }
     },
     "df7ac3e5b7b84ee297877b0b8585f16c": {
      "model_module": "jupyter-js-widgets",
      "model_module_version": "~2.1.4",
      "model_name": "IntSliderModel",
      "state": {
       "_model_module_version": "~2.1.4",
       "_view_module_version": "~2.1.4",
       "layout": "IPY_MODEL_b4f044a6cad54b2d8695f8bccea58853",
       "max": 12,
       "style": "IPY_MODEL_df0cf38ba51246c289ba96d3534b075d",
       "value": 4
      }
     },
     "e23a18110701416a9b03d82a87c9da9e": {
      "model_module": "jupyter-js-widgets",
      "model_module_version": "~2.1.4",
      "model_name": "HBoxModel",
      "state": {
       "_model_module_version": "~2.1.4",
       "_view_module_version": "~2.1.4",
       "children": [
        "IPY_MODEL_f898d39e31c84ac1bdef2583cb55341d",
        "IPY_MODEL_df7ac3e5b7b84ee297877b0b8585f16c",
        "IPY_MODEL_ff4d18b41dbd49ec8377c8c460135601",
        "IPY_MODEL_038b60e88331451cbb6ebbf6d1ae095d"
       ],
       "layout": "IPY_MODEL_10a4055884a140978a8ae4a0c0f6960e"
      }
     },
     "e263dfc435884455a6aa715494d1ff97": {
      "model_module": "jupyter-js-widgets",
      "model_module_version": "~2.1.4",
      "model_name": "LayoutModel",
      "state": {
       "_model_module_version": "~2.1.4",
       "_view_module_version": "~2.1.4",
       "width": "45.3333px"
      }
     },
     "ed8a9b7e03894c33af7ab9b53354f638": {
      "model_module": "jupyter-js-widgets",
      "model_module_version": "~2.1.4",
      "model_name": "ButtonStyleModel",
      "state": {
       "_model_module_version": "~2.1.4",
       "_view_module_version": "~2.1.4"
      }
     },
     "f138e166ff08466aad16e2ca4ca43003": {
      "model_module": "jupyter-js-widgets",
      "model_module_version": "~2.1.4",
      "model_name": "LayoutModel",
      "state": {
       "_model_module_version": "~2.1.4",
       "_view_module_version": "~2.1.4",
       "width": "100px"
      }
     },
     "f78da1d10f1a48a19b80f81214aa1b22": {
      "model_module": "jupyter-js-widgets",
      "model_module_version": "~2.1.4",
      "model_name": "LayoutModel",
      "state": {
       "_model_module_version": "~2.1.4",
       "_view_module_version": "~2.1.4",
       "width": "100px"
      }
     },
     "f898d39e31c84ac1bdef2583cb55341d": {
      "model_module": "jupyter-js-widgets",
      "model_module_version": "~2.1.4",
      "model_name": "LabelModel",
      "state": {
       "_model_module_version": "~2.1.4",
       "_view_module_version": "~2.1.4",
       "layout": "IPY_MODEL_f78da1d10f1a48a19b80f81214aa1b22",
       "value": "Orden"
      }
     },
     "ff4d18b41dbd49ec8377c8c460135601": {
      "model_module": "jupyter-js-widgets",
      "model_module_version": "~2.1.4",
      "model_name": "ButtonModel",
      "state": {
       "_model_module_version": "~2.1.4",
       "_view_module_version": "~2.1.4",
       "icon": "step-backward",
       "layout": "IPY_MODEL_e263dfc435884455a6aa715494d1ff97",
       "style": "IPY_MODEL_bc0e20fb9f964a6283be76729f95dbe3"
      }
     },
     "ff8fc7f3224a4ef984449e99277c0c24": {
      "model_module": "jupyter-js-widgets",
      "model_module_version": "~2.1.4",
      "model_name": "HBoxModel",
      "state": {
       "_model_module_version": "~2.1.4",
       "_view_module_version": "~2.1.4",
       "children": [
        "IPY_MODEL_3090d2b6c4da4500881ce7ffaee6e513",
        "IPY_MODEL_10d7b2886236440eb1be7e2130a0b555",
        "IPY_MODEL_07e30d681c044f9a8e0bebbbd3be1683",
        "IPY_MODEL_1f0cd171d49747f2ac80d95be8f9b815"
       ],
       "layout": "IPY_MODEL_aeda652b218140baa6e1ad319866af84"
      }
     }
    },
    "version_major": 1,
    "version_minor": 0
   }
  }
 },
 "nbformat": 4,
 "nbformat_minor": 4
}
