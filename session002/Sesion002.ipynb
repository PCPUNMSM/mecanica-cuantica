{
 "cells": [
  {
   "cell_type": "markdown",
   "metadata": {},
   "source": [
    "# Mecanica cuántica: Sesión 2"
   ]
  },
  {
   "cell_type": "markdown",
   "metadata": {},
   "source": [
    "### Ecuación de Schrödinger: Estado fundamental y solución de ecuaciones algebráicas no lineales"
   ]
  },
  {
   "cell_type": "markdown",
   "metadata": {},
   "source": [
    "##### **Ecuación de Schrödinger independiente del tiempo**"
   ]
  },
  {
   "cell_type": "markdown",
   "metadata": {},
   "source": [
    "$$\n",
    "- \\frac{\\hbar^2}{2 m}\\frac{d \\psi (x)}{dx^2} + V(x) \\psi(x) = E \\psi(x)\n",
    "$$"
   ]
  },
  {
   "cell_type": "markdown",
   "metadata": {},
   "source": [
    "Para el potencial de barrera"
   ]
  },
  {
   "cell_type": "markdown",
   "metadata": {},
   "source": [
    "$$\n",
    "V(x) = \\begin{cases}\n",
    "-V_0, & x < a \\\\\n",
    "0, & a \\leq x\n",
    "\\end{cases}\n",
    "$$"
   ]
  },
  {
   "cell_type": "markdown",
   "metadata": {},
   "source": [
    "Solución:"
   ]
  },
  {
   "cell_type": "markdown",
   "metadata": {},
   "source": [
    "$$\n",
    "\\sqrt{2 m (V_0 - |E|)}\n",
    "\\cot\\left(\\frac{\\sqrt{2 m a^2 \\left(V_0 - |E|\\right)}}{\\hbar}\\right)\n",
    "= - \\sqrt{2 m |E|}\n",
    "$$"
   ]
  },
  {
   "cell_type": "markdown",
   "metadata": {},
   "source": [
    "$$\n",
    "f(E) = \\sqrt{2 m (V_0 - |E|)}\n",
    "\\cot\\left(\\frac{\\sqrt{2 m a^2 \\left(V_0 - |E|\\right)}}{\\hbar}\\right)\n",
    "+ \\sqrt{2 m |E|}\n",
    "$$"
   ]
  },
  {
   "cell_type": "markdown",
   "metadata": {},
   "source": [
    "Gráfico:"
   ]
  },
  {
   "cell_type": "code",
   "execution_count": 40,
   "metadata": {},
   "outputs": [],
   "source": [
    "%matplotlib inline"
   ]
  },
  {
   "cell_type": "code",
   "execution_count": 41,
   "metadata": {},
   "outputs": [],
   "source": [
    "import numpy as np\n",
    "\n",
    "def f(E, a, m, Vo, hbar):\n",
    "    return (\n",
    "        np.sqrt(2 * m * (Vo - np.abs(E))) / \n",
    "        np.tan(np.sqrt(2 * m * (a ** 2) * (Vo - np.abs(E))) / hbar) + \n",
    "        np.sqrt(2 * m * np.abs(E))\n",
    "    )"
   ]
  },
  {
   "cell_type": "code",
   "execution_count": 44,
   "metadata": {},
   "outputs": [
    {
     "data": {
      "image/png": "[encoded data removed]",
      "text/plain": [
       "<Figure size 432x288 with 1 Axes>"
      ]
     },
     "metadata": {
      "needs_background": "light"
     },
     "output_type": "display_data"
    }
   ],
   "source": [
    "from matplotlib import pyplot as plt\n",
    "a  = 2                   # fm\n",
    "m  = 938                 # MeV\n",
    "Vo = 20                  # MeV\n",
    "hbar = 6.582119569e-22   # MeV\n",
    "\n",
    "E = np.linspace(0, 5, 1000)\n",
    "fE = [f(e, a, m, Vo, hbar) for e in E]\n",
    "\n",
    "plt.plot(E, fE)\n",
    "plt.show()"
   ]
  },
  {
   "cell_type": "markdown",
   "metadata": {},
   "source": [
    "**Tarea:** realizar el grafico anterior con los datos correctos para el deuteron"
   ]
  },
  {
   "cell_type": "markdown",
   "metadata": {},
   "source": [
    "<img src=\"./f_E.png\">"
   ]
  },
  {
   "cell_type": "markdown",
   "metadata": {},
   "source": [
    "##### **Método de bisección**"
   ]
  },
  {
   "cell_type": "code",
   "execution_count": 88,
   "metadata": {},
   "outputs": [],
   "source": [
    "def bisection_v1(f, a, b, N):\n",
    "    for i in range(0, N):\n",
    "        fa = f(a)\n",
    "        fb = f(b)\n",
    "\n",
    "        if (fa*fb > 0):\n",
    "            raise ValueError(\"Los valores de f(a) y f(b) tienen el mismo signo.\")\n",
    "\n",
    "        if fa == 0:\n",
    "            return (a, fa)\n",
    "\n",
    "        if fb == 0:\n",
    "            return (b, fb)\n",
    "\n",
    "        c = 0.5 * (a + b)\n",
    "        fc = f(c)\n",
    "\n",
    "        if fc == 0:\n",
    "            return (c, fc)\n",
    "\n",
    "        if (fc*fa < 0):\n",
    "            a = a # A sigue siendo a\n",
    "            b = c\n",
    "        elif (fc*fb < 0):\n",
    "            a = c\n",
    "            b = b # A sigue siendo a\n",
    "    else:\n",
    "        raise ValueError(\"Los valores de f(a) y f(b) hacen fallar el metodo.\")"
   ]
  },
  {
   "cell_type": "code",
   "execution_count": 95,
   "metadata": {},
   "outputs": [],
   "source": [
    "def bisection_v2(f, a, b, eps):\n",
    "    i = 0\n",
    "    while True:\n",
    "        fa = f(a)\n",
    "        fb = f(b)\n",
    "\n",
    "        if (fa*fb > 0):\n",
    "            raise ValueError(\"Los valores de f(a) y f(b) tienen el mismo signo.\")\n",
    "\n",
    "        if np.abs(fa) < eps:\n",
    "            return (a, fa, i)\n",
    "\n",
    "        if np.abs(fb) < eps:\n",
    "            return (b, fb, i)\n",
    "\n",
    "        c = 0.5 * (a + b)\n",
    "        fc = f(c)\n",
    "\n",
    "        if np.abs(fc) < eps:\n",
    "            return (c, fc, i)\n",
    "\n",
    "        if (fc*fa < 0):\n",
    "            a = a # A sigue siendo a\n",
    "            b = c\n",
    "            \n",
    "        elif (fc*fb < 0):\n",
    "            a = c\n",
    "            b = b # A sigue siendo a\n",
    "\n",
    "        i = i + 1"
   ]
  },
  {
   "cell_type": "code",
   "execution_count": 114,
   "metadata": {},
   "outputs": [],
   "source": [
    "def bisection_v3(f, a, b, eps=1e-10, N=1000):\n",
    "    i = 0\n",
    "    while True:\n",
    "        fa = f(a)\n",
    "        fb = f(b)\n",
    "\n",
    "        if (fa*fb > 0):\n",
    "            raise ValueError(\"Los valores de f(a) y f(b) tienen el mismo signo.\")\n",
    "\n",
    "        if np.abs(fa) < eps:\n",
    "            return (a, fa, i)\n",
    "\n",
    "        if np.abs(fb) < eps:\n",
    "            return (b, fb, i)\n",
    "        \n",
    "        # Biseccion\n",
    "        c = 0.5 * (a + b)\n",
    "        fc = f(c)\n",
    "\n",
    "        if np.abs(fc) < eps:\n",
    "            return (c, fc, i)\n",
    "\n",
    "        if (fc*fa < 0):\n",
    "            a = a # A sigue siendo a\n",
    "            b = c\n",
    "            \n",
    "        elif (fc*fb < 0):\n",
    "            a = c\n",
    "            b = b # A sigue siendo a\n",
    "\n",
    "        i = i + 1\n",
    "        \n",
    "        if i > N:\n",
    "            print(c, fc, i)\n",
    "            raise ValueError(\"Los valores de f(a) y f(b) hacen fallar el metodo.\")"
   ]
  },
  {
   "cell_type": "code",
   "execution_count": 144,
   "metadata": {},
   "outputs": [],
   "source": [
    "import numpy as np\n",
    "\n",
    "def f(x):\n",
    "    return np.cos(x)\n",
    "\n",
    "def g(x):\n",
    "    return x**3 - x**2 - 1\n",
    "\n",
    "def phi(x):\n",
    "    return x**2 - 1"
   ]
  },
  {
   "cell_type": "code",
   "execution_count": 156,
   "metadata": {},
   "outputs": [
    {
     "data": {
      "text/plain": [
       "(1.5707932750370839, 3.051757812734131e-06, 14)"
      ]
     },
     "execution_count": 156,
     "metadata": {},
     "output_type": "execute_result"
    }
   ],
   "source": [
    "bisection_v3(f, 0.5*np.pi - 0.45, 0.5*np.pi + 0.25, 1e-5, 20)"
   ]
  },
  {
   "cell_type": "code",
   "execution_count": 157,
   "metadata": {},
   "outputs": [
    {
     "data": {
      "text/plain": [
       "(1.4655732432988027, 7.065243550208322e-06, 15)"
      ]
     },
     "execution_count": 157,
     "metadata": {},
     "output_type": "execute_result"
    }
   ],
   "source": [
    "bisection_v3(g, 0.5*np.pi - 0.45, 0.5*np.pi + 0.25, 1e-5, 20)"
   ]
  },
  {
   "cell_type": "code",
   "execution_count": 158,
   "metadata": {},
   "outputs": [
    {
     "data": {
      "text/plain": [
       "(1.0, 0.0, 2)"
      ]
     },
     "execution_count": 158,
     "metadata": {},
     "output_type": "execute_result"
    }
   ],
   "source": [
    "bisection_v3(phi, 0.1, 2.5, 1e-5, 20)"
   ]
  },
  {
   "cell_type": "markdown",
   "metadata": {},
   "source": [
    "**Tarea:** Calcular el valor de E que hace 0 la función"
   ]
  },
  {
   "cell_type": "markdown",
   "metadata": {},
   "source": [
    "$$\n",
    "f(E) = \\sqrt{2 m (V_0 - |E|)}\n",
    "\\cot\\left(\\frac{\\sqrt{2 m a^2 \\left(V_0 - |E|\\right)}}{\\hbar}\\right)\n",
    "+ \\sqrt{2 m |E|}\n",
    "$$"
   ]
  },
  {
   "cell_type": "markdown",
   "metadata": {},
   "source": [
    "##### **Método de secante**"
   ]
  },
  {
   "cell_type": "code",
   "execution_count": 123,
   "metadata": {},
   "outputs": [],
   "source": [
    "def secant(f, a, b, eps=1e-10, N=1000):\n",
    "    i = 0\n",
    "    while True:\n",
    "        fa = f(a)\n",
    "        fb = f(b)\n",
    "\n",
    "        if (fa*fb > 0):\n",
    "            raise ValueError(\"Los valores de f(a) y f(b) tienen el mismo signo.\")\n",
    "\n",
    "        if np.abs(fa) < eps:\n",
    "            return (a, fa, i)\n",
    "\n",
    "        if np.abs(fb) < eps:\n",
    "            return (b, fb, i)\n",
    "\n",
    "        # Secante\n",
    "        c = a - fa * (b - a) / (fb - fa)\n",
    "        fc = f(c)\n",
    "\n",
    "        if np.abs(fc) < eps:\n",
    "            return (c, fc, i)\n",
    "\n",
    "        if (fc*fa < 0):\n",
    "            a = a # A sigue siendo a\n",
    "            b = c\n",
    "            \n",
    "        elif (fc*fb < 0):\n",
    "            a = c\n",
    "            b = b # A sigue siendo a\n",
    "\n",
    "        i = i + 1\n",
    "        \n",
    "        if i > N:\n",
    "            print(c, fc, i)\n",
    "            raise ValueError(\"Los valores de f(a) y f(b) hacen fallar el metodo.\")"
   ]
  },
  {
   "cell_type": "code",
   "execution_count": 140,
   "metadata": {},
   "outputs": [],
   "source": [
    "import numpy as np\n",
    "\n",
    "def f(x):\n",
    "    return np.cos(x)\n",
    "\n",
    "def g(x):\n",
    "    return x**3 - x**2 - 1\n",
    "\n",
    "def phi(x):\n",
    "    return x**2 - 1"
   ]
  },
  {
   "cell_type": "code",
   "execution_count": 141,
   "metadata": {},
   "outputs": [
    {
     "data": {
      "text/plain": [
       "(1.5707963267016634, 9.323326017128672e-11, 2)"
      ]
     },
     "execution_count": 141,
     "metadata": {},
     "output_type": "execute_result"
    }
   ],
   "source": [
    "secant(f, 0.5*np.pi - 0.45, 0.5*np.pi + 0.25, 1e-5, 20)"
   ]
  },
  {
   "cell_type": "code",
   "execution_count": 142,
   "metadata": {},
   "outputs": [
    {
     "data": {
      "text/plain": [
       "(1.4655701197254727, -3.906487995308794e-06, 9)"
      ]
     },
     "execution_count": 142,
     "metadata": {},
     "output_type": "execute_result"
    }
   ],
   "source": [
    "secant(g, 0.5*np.pi - 0.45, 0.5*np.pi + 0.25, 1e-5, 20)"
   ]
  },
  {
   "cell_type": "code",
   "execution_count": 143,
   "metadata": {},
   "outputs": [
    {
     "data": {
      "text/plain": [
       "(0.9999962366542351, -7.526677367031276e-06, 11)"
      ]
     },
     "execution_count": 143,
     "metadata": {},
     "output_type": "execute_result"
    }
   ],
   "source": [
    "secant(phi, 0, 2, 1e-5, 20)"
   ]
  },
  {
   "cell_type": "markdown",
   "metadata": {},
   "source": [
    "**Tarea:** Calcular el valor de E que hace 0 la función"
   ]
  },
  {
   "cell_type": "markdown",
   "metadata": {},
   "source": [
    "$$\n",
    "f(E) = \\sqrt{2 m (V_0 - |E|)}\n",
    "\\cot\\left(\\frac{\\sqrt{2 m a^2 \\left(V_0 - |E|\\right)}}{\\hbar}\\right)\n",
    "+ \\sqrt{2 m |E|}\n",
    "$$"
   ]
  },
  {
   "cell_type": "markdown",
   "metadata": {},
   "source": [
    "##### **Método de Newton**"
   ]
  },
  {
   "cell_type": "code",
   "execution_count": 160,
   "metadata": {},
   "outputs": [],
   "source": [
    "def newton(f, Df, x, eps=1e-10, N=1000):\n",
    "    i = 0\n",
    "    while True:\n",
    "        fx = f(x)\n",
    "\n",
    "        if np.abs(fx) < eps:\n",
    "            return (x, fx, i)\n",
    "        \n",
    "        Dfx = Df(x)\n",
    "        \n",
    "        if Dfx == 0:\n",
    "            raise ValueError(\"Derivada cero. No encontramos soluciones.\")\n",
    "\n",
    "        x = x - fx / Dfx\n",
    "        \n",
    "        i = i + 1\n",
    "        \n",
    "        if i > N:\n",
    "            print(c, fc, i)\n",
    "            raise ValueError(\"Los valores de f(a) y f(b) hacen fallar el metodo.\")"
   ]
  },
  {
   "cell_type": "markdown",
   "metadata": {},
   "source": [
    "$$\n",
    "f(x - a) = f(a) + f'(a) (x - a)\n",
    "$$"
   ]
  },
  {
   "cell_type": "markdown",
   "metadata": {},
   "source": [
    "$$\n",
    "0 = f(a) + f'(a) (x - a)\n",
    "$$"
   ]
  },
  {
   "cell_type": "markdown",
   "metadata": {},
   "source": [
    "\n",
    "$$\n",
    "x_{n+1} = x_{n} - \\frac{f(x_{n})}{f'(x_{n}) }\n",
    "$$"
   ]
  },
  {
   "cell_type": "code",
   "execution_count": 182,
   "metadata": {},
   "outputs": [],
   "source": [
    "import numpy as np\n",
    "\n",
    "def f(x):\n",
    "    return np.cos(x)\n",
    "\n",
    "def Df(x):\n",
    "    return -1*np.sin(x)\n",
    "\n",
    "def g(x):\n",
    "    return x**3 - x**2 - 1\n",
    "\n",
    "def Dg(x):\n",
    "    return 3 * x**2 - 2 * x\n",
    "\n",
    "def phi(x):\n",
    "    return x**2 - 1\n",
    "\n",
    "def Dphi(x):\n",
    "    return 2 * x"
   ]
  },
  {
   "cell_type": "code",
   "execution_count": 183,
   "metadata": {},
   "outputs": [
    {
     "data": {
      "text/plain": [
       "(1.5707962759817442, 5.0813152413679194e-08, 2)"
      ]
     },
     "execution_count": 183,
     "metadata": {},
     "output_type": "execute_result"
    }
   ],
   "source": [
    "newton(f, Df, 0.5*np.pi - 0.25, 1e-5, 20)"
   ]
  },
  {
   "cell_type": "code",
   "execution_count": 184,
   "metadata": {},
   "outputs": [
    {
     "data": {
      "text/plain": [
       "(1.5707963776080491, -5.081315251325912e-08, 2)"
      ]
     },
     "execution_count": 184,
     "metadata": {},
     "output_type": "execute_result"
    }
   ],
   "source": [
    "newton(f, Df, 0.5*np.pi + 0.25, 1e-5, 20)"
   ]
  },
  {
   "cell_type": "code",
   "execution_count": 185,
   "metadata": {},
   "outputs": [
    {
     "data": {
      "text/plain": [
       "(1.465571231876768, -4.440892098500626e-16, 5)"
      ]
     },
     "execution_count": 185,
     "metadata": {},
     "output_type": "execute_result"
    }
   ],
   "source": [
    "newton(g, Dg, 0.5*np.pi + 0.25, 1e-10, 20)"
   ]
  },
  {
   "cell_type": "code",
   "execution_count": 186,
   "metadata": {},
   "outputs": [
    {
     "data": {
      "text/plain": [
       "(1.4655712318768779, 3.859135233597044e-13, 4)"
      ]
     },
     "execution_count": 186,
     "metadata": {},
     "output_type": "execute_result"
    }
   ],
   "source": [
    "newton(g, Dg, 0.5*np.pi - 0.25, 1e-10, 20)"
   ]
  },
  {
   "cell_type": "code",
   "execution_count": 187,
   "metadata": {},
   "outputs": [
    {
     "data": {
      "text/plain": [
       "(1.0, 0.0, 6)"
      ]
     },
     "execution_count": 187,
     "metadata": {},
     "output_type": "execute_result"
    }
   ],
   "source": [
    "newton(phi, Dphi, 2, 1e-15, 20)"
   ]
  },
  {
   "cell_type": "code",
   "execution_count": 188,
   "metadata": {},
   "outputs": [
    {
     "data": {
      "text/plain": [
       "(1.0, 0.0, 6)"
      ]
     },
     "execution_count": 188,
     "metadata": {},
     "output_type": "execute_result"
    }
   ],
   "source": [
    "newton(phi, Dphi, 0.5, 1e-15, 20)"
   ]
  },
  {
   "cell_type": "markdown",
   "metadata": {},
   "source": [
    "**Tarea:** Calcular el valor de E que hace 0 la función"
   ]
  },
  {
   "cell_type": "markdown",
   "metadata": {},
   "source": [
    "$$\n",
    "f(E) = \\sqrt{2 m (V_0 - |E|)}\n",
    "\\cot\\left(\\frac{\\sqrt{2 m a^2 \\left(V_0 - |E|\\right)}}{\\hbar}\\right)\n",
    "+ \\sqrt{2 m |E|}\n",
    "$$"
   ]
  }
 ],
 "metadata": {
  "kernelspec": {
   "display_name": "Python 3",
   "language": "python",
   "name": "python3"
  },
  "language_info": {
   "codemirror_mode": {
    "name": "ipython",
    "version": 3
   },
   "file_extension": ".py",
   "mimetype": "text/x-python",
   "name": "python",
   "nbconvert_exporter": "python",
   "pygments_lexer": "ipython3",
   "version": "3.7.1"
  }
 },
 "nbformat": 4,
 "nbformat_minor": 4
}
